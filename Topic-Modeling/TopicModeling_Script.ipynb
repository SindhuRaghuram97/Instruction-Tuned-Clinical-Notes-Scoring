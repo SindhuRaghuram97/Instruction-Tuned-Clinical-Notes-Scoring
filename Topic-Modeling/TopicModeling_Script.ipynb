{
 "cells": [
  {
   "cell_type": "code",
   "execution_count": 3,
   "metadata": {},
   "outputs": [],
   "source": [
    "# !pip install wordcloud\n",
    "# !pip install gensim\n",
    "# !pip install pyLDAvis\n",
    "# !pip install nltk"
   ]
  },
  {
   "cell_type": "code",
   "execution_count": 57,
   "metadata": {},
   "outputs": [
    {
     "name": "stderr",
     "output_type": "stream",
     "text": [
      "/Users/admin/opt/anaconda3/lib/python3.8/site-packages/ipykernel/ipkernel.py:287: DeprecationWarning: `should_run_async` will not call `transform_cell` automatically in the future. Please pass the result to `transformed_cell` argument and any exception that happen during thetransform in `preprocessing_exc_tuple` in IPython 7.17 and above.\n",
      "  and should_run_async(code)\n"
     ]
    },
    {
     "name": "stdout",
     "output_type": "stream",
     "text": [
      "showing info https://raw.githubusercontent.com/nltk/nltk_data/gh-pages/index.xml\n"
     ]
    },
    {
     "name": "stderr",
     "output_type": "stream",
     "text": [
      "[nltk_data] Downloading package stopwords to /Users/admin/nltk_data...\n",
      "[nltk_data]   Package stopwords is already up-to-date!\n"
     ]
    }
   ],
   "source": [
    "import pandas as pd\n",
    "import numpy as np\n",
    "from wordcloud import WordCloud\n",
    "import gensim\n",
    "from gensim.utils import simple_preprocess\n",
    "import nltk\n",
    "import ssl\n",
    "import gensim.corpora as corpora\n",
    "from pprint import pprint\n",
    "import pyLDAvis.gensim_models as gensimvis\n",
    "import pickle \n",
    "import pyLDAvis\n",
    "import os\n",
    "\n",
    "try:\n",
    "    _create_unverified_https_context = ssl._create_unverified_context\n",
    "except AttributeError:\n",
    "    pass\n",
    "else:\n",
    "    ssl._create_default_https_context = _create_unverified_https_context\n",
    "\n",
    "nltk.download()\n",
    "nltk.download('stopwords')\n",
    "from nltk.corpus import stopwords"
   ]
  },
  {
   "cell_type": "code",
   "execution_count": 5,
   "metadata": {},
   "outputs": [
    {
     "name": "stderr",
     "output_type": "stream",
     "text": [
      "/Users/admin/opt/anaconda3/lib/python3.8/site-packages/ipykernel/ipkernel.py:287: DeprecationWarning: `should_run_async` will not call `transform_cell` automatically in the future. Please pass the result to `transformed_cell` argument and any exception that happen during thetransform in `preprocessing_exc_tuple` in IPython 7.17 and above.\n",
      "  and should_run_async(code)\n"
     ]
    }
   ],
   "source": [
    "df_notes = pd.read_csv('/Users/admin/Documents/GeorgiaTech-MSA/Academics/Courses/Fall22/ML7641/Project/Data/input_output_processed.csv')\n",
    "df_notes.head()\n",
    "\n",
    "df_notes.drop(columns = 'Unnamed: 0', inplace=True)"
   ]
  },
  {
   "cell_type": "code",
   "execution_count": 6,
   "metadata": {},
   "outputs": [
    {
     "name": "stderr",
     "output_type": "stream",
     "text": [
      "/Users/admin/opt/anaconda3/lib/python3.8/site-packages/ipykernel/ipkernel.py:287: DeprecationWarning: `should_run_async` will not call `transform_cell` automatically in the future. Please pass the result to `transformed_cell` argument and any exception that happen during thetransform in `preprocessing_exc_tuple` in IPython 7.17 and above.\n",
      "  and should_run_async(code)\n"
     ]
    },
    {
     "data": {
      "text/html": [
       "<div>\n",
       "<style scoped>\n",
       "    .dataframe tbody tr th:only-of-type {\n",
       "        vertical-align: middle;\n",
       "    }\n",
       "\n",
       "    .dataframe tbody tr th {\n",
       "        vertical-align: top;\n",
       "    }\n",
       "\n",
       "    .dataframe thead th {\n",
       "        text-align: right;\n",
       "    }\n",
       "</style>\n",
       "<table border=\"1\" class=\"dataframe\">\n",
       "  <thead>\n",
       "    <tr style=\"text-align: right;\">\n",
       "      <th></th>\n",
       "      <th>id</th>\n",
       "      <th>case_num</th>\n",
       "      <th>pn_num</th>\n",
       "      <th>feature_num</th>\n",
       "      <th>annotation</th>\n",
       "      <th>location</th>\n",
       "      <th>feature_text</th>\n",
       "      <th>pn_history</th>\n",
       "      <th>note_and_feature_text</th>\n",
       "      <th>output_text</th>\n",
       "    </tr>\n",
       "  </thead>\n",
       "  <tbody>\n",
       "    <tr>\n",
       "      <th>0</th>\n",
       "      <td>00016_000</td>\n",
       "      <td>0</td>\n",
       "      <td>16</td>\n",
       "      <td>0</td>\n",
       "      <td>['dad with recent heart attcak']</td>\n",
       "      <td>['696 724']</td>\n",
       "      <td>Family-history-of-MI-OR-Family-history-of-myoc...</td>\n",
       "      <td>HPI: 17yo M presents with palpitations. Patien...</td>\n",
       "      <td>Definition: You are given paragraph as input. ...</td>\n",
       "      <td>dad with recent heart attcak</td>\n",
       "    </tr>\n",
       "    <tr>\n",
       "      <th>1</th>\n",
       "      <td>00016_001</td>\n",
       "      <td>0</td>\n",
       "      <td>16</td>\n",
       "      <td>1</td>\n",
       "      <td>['mom with \"thyroid disease']</td>\n",
       "      <td>['668 693']</td>\n",
       "      <td>Family-history-of-thyroid-disorder</td>\n",
       "      <td>HPI: 17yo M presents with palpitations. Patien...</td>\n",
       "      <td>Definition: You are given paragraph as input. ...</td>\n",
       "      <td>mom with \"thyroid disease</td>\n",
       "    </tr>\n",
       "    <tr>\n",
       "      <th>2</th>\n",
       "      <td>00016_002</td>\n",
       "      <td>0</td>\n",
       "      <td>16</td>\n",
       "      <td>2</td>\n",
       "      <td>['chest pressure']</td>\n",
       "      <td>['203 217']</td>\n",
       "      <td>Chest-pressure</td>\n",
       "      <td>HPI: 17yo M presents with palpitations. Patien...</td>\n",
       "      <td>Definition: You are given paragraph as input. ...</td>\n",
       "      <td>chest pressure</td>\n",
       "    </tr>\n",
       "    <tr>\n",
       "      <th>3</th>\n",
       "      <td>00016_003</td>\n",
       "      <td>0</td>\n",
       "      <td>16</td>\n",
       "      <td>3</td>\n",
       "      <td>['intermittent episodes', 'episode']</td>\n",
       "      <td>['70 91', '176 183']</td>\n",
       "      <td>Intermittent-symptoms</td>\n",
       "      <td>HPI: 17yo M presents with palpitations. Patien...</td>\n",
       "      <td>Definition: You are given paragraph as input. ...</td>\n",
       "      <td>intermittent episodes, episode</td>\n",
       "    </tr>\n",
       "    <tr>\n",
       "      <th>4</th>\n",
       "      <td>00016_004</td>\n",
       "      <td>0</td>\n",
       "      <td>16</td>\n",
       "      <td>4</td>\n",
       "      <td>['felt as if he were going to pass out']</td>\n",
       "      <td>['222 258']</td>\n",
       "      <td>Lightheaded</td>\n",
       "      <td>HPI: 17yo M presents with palpitations. Patien...</td>\n",
       "      <td>Definition: You are given paragraph as input. ...</td>\n",
       "      <td>felt as if he were going to pass out</td>\n",
       "    </tr>\n",
       "  </tbody>\n",
       "</table>\n",
       "</div>"
      ],
      "text/plain": [
       "          id  case_num  pn_num  feature_num  \\\n",
       "0  00016_000         0      16            0   \n",
       "1  00016_001         0      16            1   \n",
       "2  00016_002         0      16            2   \n",
       "3  00016_003         0      16            3   \n",
       "4  00016_004         0      16            4   \n",
       "\n",
       "                                 annotation              location  \\\n",
       "0          ['dad with recent heart attcak']           ['696 724']   \n",
       "1             ['mom with \"thyroid disease']           ['668 693']   \n",
       "2                        ['chest pressure']           ['203 217']   \n",
       "3      ['intermittent episodes', 'episode']  ['70 91', '176 183']   \n",
       "4  ['felt as if he were going to pass out']           ['222 258']   \n",
       "\n",
       "                                        feature_text  \\\n",
       "0  Family-history-of-MI-OR-Family-history-of-myoc...   \n",
       "1                 Family-history-of-thyroid-disorder   \n",
       "2                                     Chest-pressure   \n",
       "3                              Intermittent-symptoms   \n",
       "4                                        Lightheaded   \n",
       "\n",
       "                                          pn_history  \\\n",
       "0  HPI: 17yo M presents with palpitations. Patien...   \n",
       "1  HPI: 17yo M presents with palpitations. Patien...   \n",
       "2  HPI: 17yo M presents with palpitations. Patien...   \n",
       "3  HPI: 17yo M presents with palpitations. Patien...   \n",
       "4  HPI: 17yo M presents with palpitations. Patien...   \n",
       "\n",
       "                               note_and_feature_text  \\\n",
       "0  Definition: You are given paragraph as input. ...   \n",
       "1  Definition: You are given paragraph as input. ...   \n",
       "2  Definition: You are given paragraph as input. ...   \n",
       "3  Definition: You are given paragraph as input. ...   \n",
       "4  Definition: You are given paragraph as input. ...   \n",
       "\n",
       "                            output_text  \n",
       "0          dad with recent heart attcak  \n",
       "1             mom with \"thyroid disease  \n",
       "2                        chest pressure  \n",
       "3        intermittent episodes, episode  \n",
       "4  felt as if he were going to pass out  "
      ]
     },
     "execution_count": 6,
     "metadata": {},
     "output_type": "execute_result"
    }
   ],
   "source": [
    "df_notes.head()"
   ]
  },
  {
   "cell_type": "code",
   "execution_count": 7,
   "metadata": {},
   "outputs": [
    {
     "name": "stderr",
     "output_type": "stream",
     "text": [
      "/Users/admin/opt/anaconda3/lib/python3.8/site-packages/ipykernel/ipkernel.py:287: DeprecationWarning: `should_run_async` will not call `transform_cell` automatically in the future. Please pass the result to `transformed_cell` argument and any exception that happen during thetransform in `preprocessing_exc_tuple` in IPython 7.17 and above.\n",
      "  and should_run_async(code)\n"
     ]
    },
    {
     "data": {
      "text/plain": [
       "(14300, 10)"
      ]
     },
     "execution_count": 7,
     "metadata": {},
     "output_type": "execute_result"
    }
   ],
   "source": [
    "df_notes.shape"
   ]
  },
  {
   "cell_type": "code",
   "execution_count": 55,
   "metadata": {},
   "outputs": [
    {
     "name": "stderr",
     "output_type": "stream",
     "text": [
      "/Users/admin/opt/anaconda3/lib/python3.8/site-packages/ipykernel/ipkernel.py:287: DeprecationWarning: `should_run_async` will not call `transform_cell` automatically in the future. Please pass the result to `transformed_cell` argument and any exception that happen during thetransform in `preprocessing_exc_tuple` in IPython 7.17 and above.\n",
      "  and should_run_async(code)\n"
     ]
    },
    {
     "data": {
      "image/png": "[encoded data removed]",
      "text/plain": [
       "<PIL.Image.Image image mode=RGB size=400x200 at 0x7F9BA10B13A0>"
      ]
     },
     "execution_count": 55,
     "metadata": {},
     "output_type": "execute_result"
    }
   ],
   "source": [
    "# Join the different processed titles together.\n",
    "long_string = ','.join(list(df_notes['pn_history'].values))\n",
    "# Create a WordCloud object\n",
    "wordcloud = WordCloud(background_color=\"white\", max_words=2000, contour_width=8, contour_color='steelblue')\n",
    "# Generate a word cloud\n",
    "wordcloud.generate(long_string)\n",
    "# Visualize the word cloud\n",
    "wordcloud.to_image()"
   ]
  },
  {
   "cell_type": "markdown",
   "metadata": {},
   "source": [
    "Next, let’s work to transform the textual data in a format that will serve as an input for training LDA model. We start by tokenizing the text and removing stopwords. Next, we convert the tokenized object into a corpus and dictionary.\n",
    "\n",
    "Stop Words: A stop word is a commonly used word (such as “the”, “a”, “an”, “in”) that a search engine has been programmed to ignore, both when indexing entries for searching and when retrieving them as the result of a search query."
   ]
  },
  {
   "cell_type": "code",
   "execution_count": 9,
   "metadata": {},
   "outputs": [
    {
     "name": "stderr",
     "output_type": "stream",
     "text": [
      "/Users/admin/opt/anaconda3/lib/python3.8/site-packages/ipykernel/ipkernel.py:287: DeprecationWarning: `should_run_async` will not call `transform_cell` automatically in the future. Please pass the result to `transformed_cell` argument and any exception that happen during thetransform in `preprocessing_exc_tuple` in IPython 7.17 and above.\n",
      "  and should_run_async(code)\n"
     ]
    },
    {
     "name": "stdout",
     "output_type": "stream",
     "text": [
      "['hpi', 'yo', 'presents', 'palpitations', 'patient', 'reports', 'months', 'intermittent', 'episodes', 'heart', 'beating', 'pounding', 'chest', 'days', 'ago', 'soccer', 'game', 'episode', 'time', 'chest', 'pressure', 'felt', 'going', 'pass', 'lose', 'conciousness', 'note', 'patient', 'endorses', 'abusing']\n"
     ]
    }
   ],
   "source": [
    "stop_words = stopwords.words('english')\n",
    "stop_words.extend(['with', 'of', 'a', 'an', 'had', 'but', 'were', 'and', 'in', 'or'])\n",
    "def sent_to_words(sentences):\n",
    "    for sentence in sentences:\n",
    "        # deacc=True removes punctuations\n",
    "        yield(gensim.utils.simple_preprocess(str(sentence), deacc=True))\n",
    "def remove_stopwords(texts):\n",
    "    return [[word for word in simple_preprocess(str(doc)) \n",
    "             if word not in stop_words] for doc in texts]\n",
    "data = df_notes.pn_history.values.tolist()\n",
    "data_words = list(sent_to_words(data))\n",
    "# remove stop words\n",
    "data_words = remove_stopwords(data_words)\n",
    "print(data_words[:1][0][:30])"
   ]
  },
  {
   "cell_type": "code",
   "execution_count": 10,
   "metadata": {},
   "outputs": [
    {
     "name": "stderr",
     "output_type": "stream",
     "text": [
      "/Users/admin/opt/anaconda3/lib/python3.8/site-packages/ipykernel/ipkernel.py:287: DeprecationWarning: `should_run_async` will not call `transform_cell` automatically in the future. Please pass the result to `transformed_cell` argument and any exception that happen during thetransform in `preprocessing_exc_tuple` in IPython 7.17 and above.\n",
      "  and should_run_async(code)\n"
     ]
    },
    {
     "name": "stdout",
     "output_type": "stream",
     "text": [
      "[(0, 1), (1, 1), (2, 1), (3, 1), (4, 2), (5, 1), (6, 1), (7, 1), (8, 1), (9, 1), (10, 3), (11, 2), (12, 1), (13, 1), (14, 1), (15, 1), (16, 1), (17, 1), (18, 1), (19, 2), (20, 1), (21, 1), (22, 1), (23, 3), (24, 1), (25, 1), (26, 1), (27, 1), (28, 1), (29, 1)]\n"
     ]
    }
   ],
   "source": [
    "# Create Dictionary\n",
    "id2word = corpora.Dictionary(data_words)\n",
    "# Create Corpus\n",
    "texts = data_words\n",
    "# Term Document Frequency\n",
    "corpus = [id2word.doc2bow(text) for text in texts]\n",
    "# View\n",
    "print(corpus[:1][0][:30])\n"
   ]
  },
  {
   "cell_type": "code",
   "execution_count": 13,
   "metadata": {},
   "outputs": [
    {
     "name": "stdout",
     "output_type": "stream",
     "text": [
      "[(0, 'abdominal'), (1, 'abusing'), (2, 'active'), (3, 'adderall'), (4, 'adderrall'), (5, 'ago'), (6, 'attcak'), (7, 'beating'), (8, 'bowel'), (9, 'breath'), (10, 'changes'), (11, 'chest'), (12, 'chills'), (13, 'college'), (14, 'conciousness'), (15, 'condoms'), (16, 'dad'), (17, 'date'), (18, 'days'), (19, 'denies'), (20, 'diaphoresis'), (21, 'disease'), (22, 'drinks'), (23, 'endorses'), (24, 'episode'), (25, 'episodes'), (26, 'fatigue'), (27, 'felt'), (28, 'fevers'), (29, 'fhx')]\n"
     ]
    },
    {
     "name": "stderr",
     "output_type": "stream",
     "text": [
      "/Users/admin/opt/anaconda3/lib/python3.8/site-packages/ipykernel/ipkernel.py:287: DeprecationWarning: `should_run_async` will not call `transform_cell` automatically in the future. Please pass the result to `transformed_cell` argument and any exception that happen during thetransform in `preprocessing_exc_tuple` in IPython 7.17 and above.\n",
      "  and should_run_async(code)\n"
     ]
    }
   ],
   "source": [
    "# print([(i,id2word[i]) for i in range(0,30)])"
   ]
  },
  {
   "cell_type": "code",
   "execution_count": 28,
   "metadata": {},
   "outputs": [
    {
     "name": "stderr",
     "output_type": "stream",
     "text": [
      "/Users/admin/opt/anaconda3/lib/python3.8/site-packages/ipykernel/ipkernel.py:287: DeprecationWarning: `should_run_async` will not call `transform_cell` automatically in the future. Please pass the result to `transformed_cell` argument and any exception that happen during thetransform in `preprocessing_exc_tuple` in IPython 7.17 and above.\n",
      "  and should_run_async(code)\n"
     ]
    },
    {
     "data": {
      "text/plain": [
       "<gensim.corpora.dictionary.Dictionary at 0x7f7b2fd1c580>"
      ]
     },
     "execution_count": 28,
     "metadata": {},
     "output_type": "execute_result"
    }
   ],
   "source": [
    "# id2word"
   ]
  },
  {
   "cell_type": "code",
   "execution_count": 24,
   "metadata": {},
   "outputs": [
    {
     "name": "stderr",
     "output_type": "stream",
     "text": [
      "/Users/admin/opt/anaconda3/lib/python3.8/site-packages/ipykernel/ipkernel.py:287: DeprecationWarning: `should_run_async` will not call `transform_cell` automatically in the future. Please pass the result to `transformed_cell` argument and any exception that happen during thetransform in `preprocessing_exc_tuple` in IPython 7.17 and above.\n",
      "  and should_run_async(code)\n",
      "<ipython-input-24-7a5c524fd989>:2: VisibleDeprecationWarning: Creating an ndarray from ragged nested sequences (which is a list-or-tuple of lists-or-tuples-or ndarrays with different lengths or shapes) is deprecated. If you meant to do this, you must specify 'dtype=object' when creating the ndarray.\n",
      "  corpus_notes = np.array(corpus)\n"
     ]
    },
    {
     "data": {
      "text/plain": [
       "(14300,)"
      ]
     },
     "execution_count": 24,
     "metadata": {},
     "output_type": "execute_result"
    }
   ],
   "source": [
    "corpus_notes = np.array(corpus)\n",
    "corpus_notes.shape"
   ]
  },
  {
   "cell_type": "code",
   "execution_count": 41,
   "metadata": {},
   "outputs": [
    {
     "name": "stderr",
     "output_type": "stream",
     "text": [
      "/Users/admin/opt/anaconda3/lib/python3.8/site-packages/ipykernel/ipkernel.py:287: DeprecationWarning: `should_run_async` will not call `transform_cell` automatically in the future. Please pass the result to `transformed_cell` argument and any exception that happen during thetransform in `preprocessing_exc_tuple` in IPython 7.17 and above.\n",
      "  and should_run_async(code)\n"
     ]
    }
   ],
   "source": [
    "x = min([len(corpus[i]) for i in range(len(corpus))])"
   ]
  },
  {
   "cell_type": "code",
   "execution_count": 27,
   "metadata": {},
   "outputs": [
    {
     "name": "stderr",
     "output_type": "stream",
     "text": [
      "/Users/admin/opt/anaconda3/lib/python3.8/site-packages/ipykernel/ipkernel.py:287: DeprecationWarning: `should_run_async` will not call `transform_cell` automatically in the future. Please pass the result to `transformed_cell` argument and any exception that happen during thetransform in `preprocessing_exc_tuple` in IPython 7.17 and above.\n",
      "  and should_run_async(code)\n"
     ]
    }
   ],
   "source": [
    "# corpus[0]"
   ]
  },
  {
   "cell_type": "code",
   "execution_count": 26,
   "metadata": {},
   "outputs": [
    {
     "name": "stderr",
     "output_type": "stream",
     "text": [
      "/Users/admin/opt/anaconda3/lib/python3.8/site-packages/ipykernel/ipkernel.py:287: DeprecationWarning: `should_run_async` will not call `transform_cell` automatically in the future. Please pass the result to `transformed_cell` argument and any exception that happen during thetransform in `preprocessing_exc_tuple` in IPython 7.17 and above.\n",
      "  and should_run_async(code)\n"
     ]
    }
   ],
   "source": [
    "# s = corpus[0].sort(key=lambda x: x[1], reverse = True) \n",
    "# print(s)"
   ]
  },
  {
   "cell_type": "code",
   "execution_count": 28,
   "metadata": {},
   "outputs": [
    {
     "name": "stderr",
     "output_type": "stream",
     "text": [
      "/Users/admin/opt/anaconda3/lib/python3.8/site-packages/ipykernel/ipkernel.py:287: DeprecationWarning: `should_run_async` will not call `transform_cell` automatically in the future. Please pass the result to `transformed_cell` argument and any exception that happen during thetransform in `preprocessing_exc_tuple` in IPython 7.17 and above.\n",
      "  and should_run_async(code)\n"
     ]
    }
   ],
   "source": [
    "top_5_each = []\n",
    "for i in range(len(corpus)):\n",
    "    corpus[i].sort(key=lambda x: x[1], reverse = True)\n",
    "    top_5_each.append(corpus[i][0:5])"
   ]
  },
  {
   "cell_type": "code",
   "execution_count": 29,
   "metadata": {},
   "outputs": [
    {
     "name": "stderr",
     "output_type": "stream",
     "text": [
      "/Users/admin/opt/anaconda3/lib/python3.8/site-packages/ipykernel/ipkernel.py:287: DeprecationWarning: `should_run_async` will not call `transform_cell` automatically in the future. Please pass the result to `transformed_cell` argument and any exception that happen during thetransform in `preprocessing_exc_tuple` in IPython 7.17 and above.\n",
      "  and should_run_async(code)\n"
     ]
    },
    {
     "data": {
      "text/plain": [
       "[(10, 3), (23, 3), (32, 3), (4, 2), (11, 2)]"
      ]
     },
     "execution_count": 29,
     "metadata": {},
     "output_type": "execute_result"
    }
   ],
   "source": [
    "top_5_each[0]"
   ]
  },
  {
   "cell_type": "code",
   "execution_count": null,
   "metadata": {},
   "outputs": [],
   "source": [
    "id2word"
   ]
  },
  {
   "cell_type": "markdown",
   "metadata": {},
   "source": [
    "LDA model training\n",
    "To keep things simple, we’ll keep all the parameters to default except for inputting the number of topics. For this tutorial, we will build a model with 10 topics where each topic is a combination of keywords, and each keyword contributes a certain weightage to the topic."
   ]
  },
  {
   "cell_type": "code",
   "execution_count": 68,
   "metadata": {},
   "outputs": [
    {
     "name": "stdout",
     "output_type": "stream",
     "text": [
      "[ 5  6  7  8  9 10 11 12 13 14 15 16 17 18 19 20]\n"
     ]
    },
    {
     "name": "stderr",
     "output_type": "stream",
     "text": [
      "/Users/admin/opt/anaconda3/lib/python3.8/site-packages/ipykernel/ipkernel.py:287: DeprecationWarning: `should_run_async` will not call `transform_cell` automatically in the future. Please pass the result to `transformed_cell` argument and any exception that happen during thetransform in `preprocessing_exc_tuple` in IPython 7.17 and above.\n",
      "  and should_run_async(code)\n"
     ]
    }
   ],
   "source": [
    "# number of topics\n",
    "num_topics = np.arange(5,21)\n",
    "print(num_topics)"
   ]
  },
  {
   "cell_type": "code",
   "execution_count": 69,
   "metadata": {},
   "outputs": [
    {
     "name": "stderr",
     "output_type": "stream",
     "text": [
      "/Users/admin/opt/anaconda3/lib/python3.8/site-packages/ipykernel/ipkernel.py:287: DeprecationWarning: `should_run_async` will not call `transform_cell` automatically in the future. Please pass the result to `transformed_cell` argument and any exception that happen during thetransform in `preprocessing_exc_tuple` in IPython 7.17 and above.\n",
      "  and should_run_async(code)\n"
     ]
    }
   ],
   "source": [
    "# Build LDA model\n",
    "# lda_model = gensim.models.LdaMulticore(corpus=corpus,\n",
    "#                                        id2word=id2word,\n",
    "#                                        num_topics=num_topics)\n",
    "perplexity_scores= []\n",
    "coherence_scores = []\n",
    "for i in list(num_topics):                               \n",
    "    lda_model = gensim.models.ldamodel.LdaModel(corpus=corpus,\n",
    "                                            id2word=id2word,\n",
    "                                            num_topics=i, \n",
    "                                            random_state=100,\n",
    "                                            update_every=1,\n",
    "                                            chunksize=100,\n",
    "                                            passes=10,\n",
    "                                            alpha='auto',\n",
    "                                            per_word_topics=True)\n",
    "    doc_lda = lda_model[corpus]\n",
    "    topics = lda_model.print_topics()\n",
    "    perplexity_scores.append((i, lda_model.log_perplexity(corpus)))\n",
    "    coherence_model_lda = CoherenceModel(model=lda_model, texts=texts, dictionary=id2word, coherence='c_v')\n",
    "    coherence_lda = coherence_model_lda.get_coherence()\n",
    "    coherence_scores.append((i, coherence_lda))\n",
    "    # print('\\nPerplexity: ', lda_model.log_perplexity(corpus))  \n",
    "    \n",
    "# # Print the Keyword in the 10 topics\n",
    "# pprint(lda_model.print_topics())\n",
    "# doc_lda = lda_model[corpus]"
   ]
  },
  {
   "cell_type": "code",
   "execution_count": 70,
   "metadata": {},
   "outputs": [
    {
     "name": "stderr",
     "output_type": "stream",
     "text": [
      "/Users/admin/opt/anaconda3/lib/python3.8/site-packages/ipykernel/ipkernel.py:287: DeprecationWarning: `should_run_async` will not call `transform_cell` automatically in the future. Please pass the result to `transformed_cell` argument and any exception that happen during thetransform in `preprocessing_exc_tuple` in IPython 7.17 and above.\n",
      "  and should_run_async(code)\n"
     ]
    },
    {
     "data": {
      "text/plain": [
       "[(5, -7.200103005717839),\n",
       " (6, -7.263299356356218),\n",
       " (7, -7.381465442499188),\n",
       " (8, -7.387944935432143),\n",
       " (9, -7.531030688900502),\n",
       " (10, -7.640532125140613),\n",
       " (11, -7.793596208577822),\n",
       " (12, -7.988593869411682),\n",
       " (13, -8.306423601685324),\n",
       " (14, -8.8723031067022),\n",
       " (15, -9.872213905051508),\n",
       " (16, -11.412207876684334),\n",
       " (17, -13.770002695175728),\n",
       " (18, -16.49774094035649),\n",
       " (19, -18.012768058004315),\n",
       " (20, -18.469605988937506)]"
      ]
     },
     "execution_count": 70,
     "metadata": {},
     "output_type": "execute_result"
    }
   ],
   "source": [
    "perplexity_scores"
   ]
  },
  {
   "cell_type": "code",
   "execution_count": 71,
   "metadata": {},
   "outputs": [
    {
     "name": "stderr",
     "output_type": "stream",
     "text": [
      "/Users/admin/opt/anaconda3/lib/python3.8/site-packages/ipykernel/ipkernel.py:287: DeprecationWarning: `should_run_async` will not call `transform_cell` automatically in the future. Please pass the result to `transformed_cell` argument and any exception that happen during thetransform in `preprocessing_exc_tuple` in IPython 7.17 and above.\n",
      "  and should_run_async(code)\n"
     ]
    },
    {
     "data": {
      "text/plain": [
       "[(5, 0.5466452631450318),\n",
       " (6, 0.5215968522536325),\n",
       " (7, 0.5953138803793966),\n",
       " (8, 0.5277556577956173),\n",
       " (9, 0.5000037477476615),\n",
       " (10, 0.46311931424759284),\n",
       " (11, 0.5165634374511323),\n",
       " (12, 0.47786017406405046),\n",
       " (13, 0.44410929930416543),\n",
       " (14, 0.437793627028689),\n",
       " (15, 0.4496195140356102),\n",
       " (16, 0.45406046839152947),\n",
       " (17, 0.49734735721791),\n",
       " (18, 0.4474587513004826),\n",
       " (19, 0.43473087460116117),\n",
       " (20, 0.4339192575793585)]"
      ]
     },
     "execution_count": 71,
     "metadata": {},
     "output_type": "execute_result"
    }
   ],
   "source": [
    "coherence_scores"
   ]
  },
  {
   "cell_type": "code",
   "execution_count": 74,
   "metadata": {},
   "outputs": [
    {
     "name": "stderr",
     "output_type": "stream",
     "text": [
      "/Users/admin/opt/anaconda3/lib/python3.8/site-packages/ipykernel/ipkernel.py:287: DeprecationWarning: `should_run_async` will not call `transform_cell` automatically in the future. Please pass the result to `transformed_cell` argument and any exception that happen during thetransform in `preprocessing_exc_tuple` in IPython 7.17 and above.\n",
      "  and should_run_async(code)\n"
     ]
    },
    {
     "data": {
      "text/plain": [
       "Text(0.5, 1.0, 'Perplexity Score with Number of Topics')"
      ]
     },
     "execution_count": 74,
     "metadata": {},
     "output_type": "execute_result"
    },
    {
     "data": {
      "image/png": "[encoded data removed]",
      "text/plain": [
       "<Figure size 432x288 with 1 Axes>"
      ]
     },
     "metadata": {
      "needs_background": "light"
     },
     "output_type": "display_data"
    }
   ],
   "source": [
    "import seaborn as sns\n",
    "df_perplexity = pd.DataFrame()\n",
    "df_perplexity['num_topics'] = pd.Series([i[0] for i in perplexity_scores])\n",
    "df_perplexity['perplexity_score'] = pd.Series([i[1] for i in perplexity_scores])\n",
    "\n",
    "df_coherence = pd.DataFrame()\n",
    "df_coherence['num_topics'] = pd.Series([i[0] for i in coherence_scores])\n",
    "df_coherence['coherence_score'] = pd.Series([i[1] for i in coherence_scores])\n",
    "\n",
    "sns.lineplot(data=df_perplexity, x=\"num_topics\", y=\"perplexity_score\").set_title(\"Perplexity Score with Number of Topics\")"
   ]
  },
  {
   "cell_type": "code",
   "execution_count": 75,
   "metadata": {},
   "outputs": [
    {
     "name": "stderr",
     "output_type": "stream",
     "text": [
      "/Users/admin/opt/anaconda3/lib/python3.8/site-packages/ipykernel/ipkernel.py:287: DeprecationWarning: `should_run_async` will not call `transform_cell` automatically in the future. Please pass the result to `transformed_cell` argument and any exception that happen during thetransform in `preprocessing_exc_tuple` in IPython 7.17 and above.\n",
      "  and should_run_async(code)\n"
     ]
    },
    {
     "data": {
      "text/plain": [
       "Text(0.5, 1.0, 'Coherence Score with Number of Topics')"
      ]
     },
     "execution_count": 75,
     "metadata": {},
     "output_type": "execute_result"
    },
    {
     "data": {
      "image/png": "[encoded data removed]",
      "text/plain": [
       "<Figure size 432x288 with 1 Axes>"
      ]
     },
     "metadata": {
      "needs_background": "light"
     },
     "output_type": "display_data"
    }
   ],
   "source": [
    "sns.lineplot(data=df_coherence, x=\"num_topics\", y=\"coherence_score\").set_title(\"Coherence Score with Number of Topics\")"
   ]
  },
  {
   "cell_type": "markdown",
   "metadata": {},
   "source": [
    "Analyzing LDA model results\n",
    "Now that we have a trained model let’s visualize the topics for interpretability. To do so, we’ll use a popular visualization package, pyLDAvis which is designed to help interactively with:\n",
    "\n",
    "Better understanding and interpreting individual topics, and\n",
    "Better understanding the relationships between the topics."
   ]
  },
  {
   "cell_type": "code",
   "execution_count": 82,
   "metadata": {},
   "outputs": [
    {
     "name": "stderr",
     "output_type": "stream",
     "text": [
      "/Users/admin/opt/anaconda3/lib/python3.8/site-packages/ipykernel/ipkernel.py:287: DeprecationWarning: `should_run_async` will not call `transform_cell` automatically in the future. Please pass the result to `transformed_cell` argument and any exception that happen during thetransform in `preprocessing_exc_tuple` in IPython 7.17 and above.\n",
      "  and should_run_async(code)\n"
     ]
    }
   ],
   "source": [
    "final_lda_model = gensim.models.ldamodel.LdaModel(corpus=corpus,\n",
    "                                            id2word=id2word,\n",
    "                                            num_topics=7, \n",
    "                                            random_state=100,\n",
    "                                            update_every=1,\n",
    "                                            chunksize=100,\n",
    "                                            passes=10,\n",
    "                                            alpha='auto',\n",
    "                                            per_word_topics=True)"
   ]
  },
  {
   "cell_type": "code",
   "execution_count": 83,
   "metadata": {},
   "outputs": [
    {
     "name": "stdout",
     "output_type": "stream",
     "text": [
      "[(0,\n",
      "  '0.089*\"pain\" + 0.038*\"worse\" + 0.038*\"tylenol\" + 0.035*\"morning\" + '\n",
      "  '0.033*\"bending\" + 0.030*\"head\" + 0.029*\"dull\" + 0.028*\"marijuana\" + '\n",
      "  '0.025*\"photophobia\" + 0.020*\"drinks\"'),\n",
      " (1,\n",
      "  '0.046*\"ibuprofen\" + 0.039*\"constant\" + 0.028*\"neck\" + 0.024*\"ocp\" + '\n",
      "  '0.023*\"pain\" + 0.021*\"vomiting\" + 0.020*\"condoms\" + 0.020*\"none\" + '\n",
      "  '0.020*\"uses\" + 0.019*\"ago\"'),\n",
      " (2,\n",
      "  '0.105*\"headache\" + 0.073*\"yesterday\" + 0.031*\"none\" + 0.023*\"weekends\" + '\n",
      "  '0.021*\"episodes\" + 0.020*\"feels\" + 0.020*\"nausea\" + 0.019*\"states\" + '\n",
      "  '0.019*\"works\" + 0.017*\"severe\"'),\n",
      " (3,\n",
      "  '0.059*\"son\" + 0.041*\"htn\" + 0.036*\"wine\" + 0.036*\"asleep\" + 0.034*\"breast\" '\n",
      "  '+ 0.032*\"mother\" + 0.028*\"husband\" + 0.028*\"hctz\" + 0.028*\"cancer\" + '\n",
      "  '0.025*\"glasses\"'),\n",
      " (4,\n",
      "  '0.069*\"denies\" + 0.041*\"patient\" + 0.038*\"history\" + 0.035*\"reports\" + '\n",
      "  '0.031*\"migraines\" + 0.030*\"hx\" + 0.028*\"female\" + 0.027*\"sick\" + '\n",
      "  '0.025*\"contacts\" + 0.025*\"year\"'),\n",
      " (5,\n",
      "  '0.044*\"pmh\" + 0.035*\"ros\" + 0.034*\"none\" + 0.028*\"psh\" + 0.027*\"fh\" + '\n",
      "  '0.026*\"sh\" + 0.025*\"yo\" + 0.023*\"changes\" + 0.022*\"meds\" + 0.021*\"since\"'),\n",
      " (6,\n",
      "  '0.046*\"sleep\" + 0.040*\"sleeping\" + 0.024*\"ambien\" + 0.022*\"weeks\" + '\n",
      "  '0.022*\"difficulty\" + 0.019*\"night\" + 0.018*\"lisinopril\" + 0.018*\"ago\" + '\n",
      "  '0.017*\"good\" + 0.016*\"father\"')]\n"
     ]
    },
    {
     "name": "stderr",
     "output_type": "stream",
     "text": [
      "/Users/admin/opt/anaconda3/lib/python3.8/site-packages/ipykernel/ipkernel.py:287: DeprecationWarning: `should_run_async` will not call `transform_cell` automatically in the future. Please pass the result to `transformed_cell` argument and any exception that happen during thetransform in `preprocessing_exc_tuple` in IPython 7.17 and above.\n",
      "  and should_run_async(code)\n"
     ]
    }
   ],
   "source": [
    "pprint(final_lda_model.print_topics())"
   ]
  },
  {
   "cell_type": "code",
   "execution_count": 84,
   "metadata": {},
   "outputs": [
    {
     "name": "stderr",
     "output_type": "stream",
     "text": [
      "/Users/admin/opt/anaconda3/lib/python3.8/site-packages/ipykernel/ipkernel.py:287: DeprecationWarning: `should_run_async` will not call `transform_cell` automatically in the future. Please pass the result to `transformed_cell` argument and any exception that happen during thetransform in `preprocessing_exc_tuple` in IPython 7.17 and above.\n",
      "  and should_run_async(code)\n",
      "/Users/admin/opt/anaconda3/lib/python3.8/site-packages/pyLDAvis/_prepare.py:246: FutureWarning: In a future version of pandas all arguments of DataFrame.drop except for the argument 'labels' will be keyword-only.\n",
      "  default_term_info = default_term_info.sort_values(\n"
     ]
    },
    {
     "data": {
      "text/html": [
       "\n",
       "<link rel=\"stylesheet\" type=\"text/css\" href=\"https://cdn.jsdelivr.net/gh/bmabey/pyLDAvis@3.3.1/pyLDAvis/js/ldavis.v1.0.0.css\">\n",
       "\n",
       "\n",
       "<div id=\"ldavis_el31111403072112842569110230766\"></div>\n",
       "<script type=\"text/javascript\">\n",
       "\n",
       "var ldavis_el31111403072112842569110230766_data = {\"mdsDat\": {\"x\": [-0.026799628520608926, 0.17615731892151532, 0.00786218066040849, -0.1729436092546225, 0.008847624225424787, 0.29653401200397544, -0.28965789803609265], \"y\": [-0.18651625785969073, -0.044015413018400944, -0.1747777729100127, 0.057605318851141535, -0.14415064045110532, 0.26925769936741994, 0.22259706602064877], \"topics\": [1, 2, 3, 4, 5, 6, 7], \"cluster\": [1, 1, 1, 1, 1, 1, 1], \"Freq\": [24.779517022675087, 15.836128132417851, 14.820751806626584, 13.160489694432348, 11.266749517107327, 11.225846608817438, 8.910517217923365]}, \"tinfo\": {\"Term\": [\"headache\", \"pain\", \"yesterday\", \"denies\", \"ibuprofen\", \"pmh\", \"son\", \"sleep\", \"patient\", \"constant\", \"none\", \"history\", \"sleeping\", \"ros\", \"psh\", \"fh\", \"tylenol\", \"worse\", \"htn\", \"sh\", \"mother\", \"reports\", \"morning\", \"migraines\", \"neck\", \"hx\", \"bending\", \"wine\", \"asleep\", \"vomiting\", \"psh\", \"fh\", \"sh\", \"except\", \"weakness\", \"etoh\", \"numbness\", \"trouble\", \"bowel\", \"weekend\", \"change\", \"non\", \"regular\", \"describes\", \"visual\", \"present\", \"tingling\", \"smoke\", \"medication\", \"nka\", \"severity\", \"neg\", \"refers\", \"yr\", \"occasional\", \"illicit\", \"room\", \"sexual\", \"positive\", \"mild\", \"pt\", \"pmh\", \"ros\", \"smoking\", \"negative\", \"meds\", \"nkda\", \"yo\", \"says\", \"hpi\", \"since\", \"walking\", \"changes\", \"none\", \"started\", \"day\", \"times\", \"allergies\", \"denies\", \"active\", \"week\", \"mother\", \"also\", \"associated\", \"constant\", \"neck\", \"ibuprofen\", \"ocp\", \"joints\", \"lmp\", \"ocps\", \"boyfriend\", \"oral\", \"ache\", \"today\", \"every\", \"sore\", \"periods\", \"bad\", \"get\", \"contraceptive\", \"stiffness\", \"menstrual\", \"obgyn\", \"achy\", \"soc\", \"cycles\", \"gyn\", \"denied\", \"contraceptives\", \"contraception\", \"hrs\", \"ever\", \"consistently\", \"condoms\", \"surgeries\", \"light\", \"pill\", \"uses\", \"urinary\", \"days\", \"vomiting\", \"sexually\", \"active\", \"ago\", \"pain\", \"none\", \"day\", \"dull\", \"nausea\", \"sleep\", \"last\", \"headache\", \"patient\", \"history\", \"sick\", \"contacts\", \"social\", \"old\", \"endorses\", \"family\", \"waking\", \"notes\", \"experienced\", \"significant\", \"surgical\", \"medical\", \"improvement\", \"bilateral\", \"however\", \"complaint\", \"weekly\", \"fam\", \"known\", \"experiencing\", \"two\", \"three\", \"poor\", \"minimal\", \"chief\", \"noted\", \"include\", \"nil\", \"presenting\", \"migraines\", \"year\", \"one\", \"hx\", \"otherwise\", \"female\", \"presents\", \"symptoms\", \"reports\", \"began\", \"recent\", \"denies\", \"headaches\", \"past\", \"use\", \"medications\", \"vomiting\", \"tobacco\", \"ms\", \"allergies\", \"also\", \"mother\", \"nausea\", \"weeks\", \"difficulty\", \"interest\", \"depression\", \"energy\", \"constipation\", \"support\", \"suicidal\", \"throughout\", \"guilt\", \"system\", \"wk\", \"thoughts\", \"cold\", \"anything\", \"death\", \"sad\", \"lost\", \"mood\", \"sensitivity\", \"concentration\", \"wakes\", \"intolerance\", \"nights\", \"activities\", \"coffee\", \"able\", \"doesnt\", \"walks\", \"friends\", \"appetitie\", \"ambien\", \"lisinopril\", \"remission\", \"lumpectomy\", \"mva\", \"decreased\", \"sleeping\", \"wicks\", \"good\", \"heard\", \"sleep\", \"laparotomy\", \"night\", \"increased\", \"appetite\", \"weeks\", \"father\", \"loss\", \"ago\", \"feeling\", \"changes\", \"hours\", \"yesterday\", \"weekends\", \"severe\", \"worst\", \"life\", \"pmhx\", \"like\", \"felt\", \"birth\", \"control\", \"complains\", \"away\", \"pshx\", \"cc\", \"worsening\", \"apartment\", \"eyes\", \"duration\", \"stated\", \"emesis\", \"previously\", \"monogamous\", \"tired\", \"really\", \"usually\", \"temperature\", \"surg\", \"noticed\", \"date\", \"type\", \"roommate\", \"headache\", \"works\", \"episodes\", \"store\", \"feels\", \"vision\", \"sporting\", \"dad\", \"roomate\", \"states\", \"mom\", \"getting\", \"fhx\", \"subjective\", \"nausea\", \"none\", \"per\", \"years\", \"throat\", \"week\", \"without\", \"takes\", \"lives\", \"feeling\", \"head\", \"marijuana\", \"smokes\", \"high\", \"warm\", \"cholesterol\", \"nose\", \"relief\", \"aches\", \"forward\", \"runny\", \"hld\", \"body\", \"progressively\", \"pills\", \"makes\", \"nothing\", \"vomited\", \"hyperlipidemia\", \"bright\", \"rhinorrhea\", \"hurts\", \"better\", \"vomitting\", \"diffuse\", \"worsen\", \"eye\", \"generalized\", \"ear\", \"make\", \"tylenol\", \"bending\", \"food\", \"worse\", \"woke\", \"madden\", \"photophobia\", \"pain\", \"morning\", \"beers\", \"migraine\", \"dull\", \"green\", \"cough\", \"drinks\", \"father\", \"chest\", \"tried\", \"fever\", \"son\", \"htn\", \"asleep\", \"breast\", \"husband\", \"hctz\", \"cancer\", \"glasses\", \"falling\", \"died\", \"stroke\", \"early\", \"passed\", \"hallucinations\", \"ideation\", \"staying\", \"bed\", \"hypertension\", \"cup\", \"mrs\", \"gain\", \"sleeps\", \"heavy\", \"things\", \"saw\", \"knows\", \"glass\", \"still\", \"psychomotor\", \"falls\", \"ca\", \"retired\", \"wine\", \"home\", \"mother\", \"years\", \"seeing\", \"hearing\", \"morning\", \"days\", \"changes\", \"never\"], \"Freq\": [16243.0, 17446.0, 10122.0, 19692.0, 9045.0, 14041.0, 6431.0, 9406.0, 7387.0, 7633.0, 18638.0, 6890.0, 6931.0, 10957.0, 8477.0, 8375.0, 5268.0, 5726.0, 4537.0, 7802.0, 9724.0, 7800.0, 6310.0, 5810.0, 5534.0, 5776.0, 4540.0, 4885.0, 3924.0, 7877.0, 8476.06863746786, 8374.525685565382, 7801.90050058146, 5189.837429623589, 4146.1010615652285, 3208.1471164424397, 2929.7480896828665, 2893.4524616998137, 2875.5446204443438, 2502.7700356363903, 2447.7054460179784, 2410.95967402619, 2407.160980827629, 2409.84935664777, 1974.8565538051519, 1624.104682786495, 1570.7743964249426, 1405.4016768777096, 1239.3815560165258, 1087.503506733697, 1075.1876972134817, 1042.4691672620158, 1045.5999529015876, 1027.0329316585462, 1007.6587874490218, 999.7978709686015, 1006.1658760455227, 986.5931263693448, 974.8658247949766, 969.3473742919191, 5748.916288473252, 13526.205321479994, 10568.746695854576, 3968.6134795079856, 4614.0425042301085, 6847.336922712631, 4925.288987748189, 7518.020842794973, 1557.0071137264968, 3651.8835267283835, 6367.006585986395, 5000.90296357119, 6925.475792042386, 10391.66015634736, 3593.544182019939, 4646.986177141807, 3677.350722037236, 4096.5679073732035, 6251.194125771689, 3620.8874504042915, 3837.900855251284, 3711.411240266952, 3285.441043329568, 2962.2734068134328, 7632.383971219444, 5533.815322308691, 9044.090258439612, 4643.259420516833, 3511.500019141908, 3205.0217604780323, 2965.9972544115462, 2696.080123540025, 2524.5469170332135, 2442.876651087865, 1748.8362896943217, 1682.9872616154696, 1376.3913739417296, 1275.8505851879697, 1275.3268322720346, 1266.4889666180043, 1228.7308706898045, 1715.7207758902275, 1099.259966109003, 1094.4056154898833, 1593.9733902832675, 1004.3179373135825, 978.9928740247944, 911.5400283588613, 904.9714865944453, 897.7919451080113, 790.897375958655, 773.6407376764876, 755.5082303405294, 741.4614038680189, 3921.837528757649, 1748.7824179658257, 2777.483751637261, 1370.8323375811703, 3885.0407801729834, 1748.1196324576608, 3577.3011612398745, 4152.186509900758, 3488.293094268992, 3365.8802023594985, 3625.927923738748, 4434.569413637259, 3891.6962059709, 2255.24595539301, 2029.4767967172395, 1871.6781601825812, 1980.7957997172875, 1661.0621936626962, 1672.021190606404, 7386.742148895247, 6889.769280241898, 4855.3221631197075, 4577.954085059666, 4092.0095987991194, 3608.774082249258, 3223.233608088075, 2447.183725538272, 1532.6591133739933, 1301.43612241196, 1161.5534347337912, 955.7380265244781, 939.7203391581986, 829.8842472524728, 825.7825975376235, 715.7573123280653, 557.5867449547902, 538.4585719855964, 536.9225328561861, 506.2694829985554, 502.45709787745255, 488.32132793269534, 484.6005262906571, 481.30156884783264, 462.37489650820294, 460.4155278126802, 448.9024065422697, 436.62941400556934, 402.5683807747541, 356.87323252987056, 1907.4460404576755, 5685.017217068348, 4470.397904026189, 1723.6071872214418, 5379.956467818719, 927.946557216604, 5058.08408137596, 3857.062241314491, 2640.57340305465, 6421.547003522401, 2225.1510815296106, 2764.2919037512797, 12609.172656135646, 2592.114453840995, 3801.348250899229, 3903.062101968867, 2013.3961579222344, 3724.827919992689, 2699.6287050888754, 1758.5233249562768, 2345.3614002459785, 2292.420207878988, 2485.7435107145243, 2134.321829336987, 2136.899237979507, 3512.4509166374505, 2583.840404634043, 2541.690282143244, 2145.902678999095, 2104.6276001781757, 1856.1433862469585, 1762.8403663919946, 1767.6063019149206, 1293.853589071522, 1149.2693924100042, 1130.115131158307, 1114.7842303963303, 1105.222437529898, 1122.9669062023445, 1083.1824164132263, 1059.4357963459015, 1053.687942741047, 1029.7186048404324, 1087.59011915726, 960.4075338336253, 923.7435055449686, 915.4835002983605, 843.5677988743525, 842.5448796075475, 794.0119127350865, 761.8135465859966, 703.2704117573431, 698.3988077395705, 661.8424829310394, 660.2787097990271, 3843.4287608416507, 2955.0536762911756, 1954.1083312661547, 1882.656229636585, 974.4249646528807, 2406.592734632494, 6398.753444352787, 1192.3190537638532, 2742.010615235713, 1162.8063405939897, 7425.101736722418, 1057.4109859935056, 3149.4405952692946, 2139.360728916561, 2507.564181976539, 3615.876405488066, 2633.548914669218, 1829.7953012950888, 2871.1755023303645, 1642.0394195328197, 2065.18521402537, 1236.5893294358505, 10121.550080311597, 3188.297845559863, 2395.7402870184515, 2259.5609861728226, 2005.303290475582, 1968.611609104431, 1904.1462952529532, 1800.885158752217, 1755.567853153608, 1727.21582378837, 1630.9330031179716, 871.8992351108525, 818.4841795502317, 791.9319297823643, 642.1992103655072, 618.9447390883724, 617.5155877492493, 568.2330630778548, 560.0912429381998, 614.095664534829, 532.8858447469149, 499.8206937773201, 488.32737856876537, 420.6228743982974, 419.62348794671914, 418.574837101831, 394.2805870873132, 382.37086354578497, 380.6017330470683, 329.09343856922436, 1021.4470920695135, 14525.0164206609, 2581.0822906908434, 2963.508193565369, 2240.931496144758, 2762.348674010878, 2349.950662678483, 1804.3434094710592, 2314.7208465264916, 926.0685811204484, 2602.446841758356, 1955.2692499051957, 1019.5272970542565, 1033.768416874858, 1335.854708527774, 2732.1943485959587, 4354.882550602799, 1979.8214362815422, 1997.8407834109319, 1533.155151677449, 2308.2446597187304, 1079.587335300698, 1163.895456340422, 1377.196019475755, 1255.491223271424, 4106.139237382754, 3833.428830209656, 2573.3433337488254, 2530.8344173788487, 2332.6797752952984, 2041.0280701888016, 1797.641951692632, 1560.6609340732082, 1501.3456676751898, 1477.7063014109087, 1320.1824027237412, 1300.0201059160179, 1258.9753338364717, 1067.546729149288, 1040.2227647655216, 943.6606036837986, 923.7894770478221, 942.5690852082155, 904.216142470916, 987.9540222523125, 779.6868581628225, 758.8099761356325, 747.6050998819229, 742.3014824568298, 694.7468165263826, 679.0627799644888, 635.6015976232352, 735.2731526896193, 603.7792501709948, 555.6484157532008, 5212.926627911752, 4491.174340494832, 1621.1329091773573, 5245.808220175142, 1642.1790672174, 2588.973302279269, 3419.9728438641, 12243.723080295416, 4785.876871242765, 1708.8889887609932, 1541.203386089218, 3951.464036048224, 1238.1185746319259, 1155.2331181906025, 2732.1806805721785, 2301.6088513288996, 1631.9379005849055, 1478.7385443514179, 1257.8978306175545, 6430.908250631891, 4536.437072091634, 3923.1966219402916, 3681.0956753390933, 3104.898753688146, 3091.7829384169127, 3038.0653518344816, 2723.9487713648946, 2629.9613147339073, 2516.415157558615, 1913.2466655884025, 1668.3212923136678, 1490.5099877044868, 1413.398567199437, 1176.5899760638813, 953.3018707119741, 916.1962893309869, 836.6837387350597, 707.4569309008313, 703.956097210642, 694.5946853365575, 626.0817222502184, 597.9853414095594, 588.082752891823, 578.1430142942583, 558.3222730083078, 544.9414062059922, 541.1363807220445, 545.2584576427681, 518.0943498905466, 1084.4780881609265, 1820.018744380717, 3931.102648818907, 1040.6268075320042, 3526.4525485357717, 2057.523287149099, 785.6642787608145, 963.7114455526414, 1523.6984809980881, 1041.6366977515113, 1034.1360558099232, 735.8179039996076], \"Total\": [16243.0, 17446.0, 10122.0, 19692.0, 9045.0, 14041.0, 6431.0, 9406.0, 7387.0, 7633.0, 18638.0, 6890.0, 6931.0, 10957.0, 8477.0, 8375.0, 5268.0, 5726.0, 4537.0, 7802.0, 9724.0, 7800.0, 6310.0, 5810.0, 5534.0, 5776.0, 4540.0, 4885.0, 3924.0, 7877.0, 8477.067913263169, 8375.524697456996, 7802.899154594927, 5190.836226953935, 4147.105665532511, 3209.146467568411, 2930.750469067802, 2894.454721944136, 2876.6026001607156, 2503.790283548808, 2448.703827142267, 2411.9594171560398, 2408.1612378511154, 2410.8510216927452, 1975.8576069054027, 1625.1083533004903, 1571.777641908395, 1406.4017383239693, 1240.3827951654005, 1088.5046790881495, 1076.1929330490257, 1043.4669540545974, 1046.606246581752, 1028.036292523628, 1008.6587400679872, 1000.7951404312043, 1007.1745624508375, 987.5925552914892, 975.8748877384, 970.3522975569169, 5799.133981587971, 14041.707663228644, 10957.11002919001, 4108.563163595272, 5082.5207868936695, 8248.190913050788, 5767.8943784804305, 9293.076986801621, 1630.991293797996, 4259.877153975744, 8343.459647541335, 6666.238914831451, 10842.31505149998, 18638.95495478311, 4823.6594728212485, 6903.072330905511, 5341.695977573452, 7212.085065757788, 19692.659860417894, 6987.607248941734, 9596.889032408764, 9724.238607481315, 7025.243687508939, 4471.936774900847, 7633.4105593953545, 5534.841930868857, 9045.917681620476, 4644.298412557871, 3512.5420488792265, 3206.045604796889, 2967.0880954810173, 2697.104075985475, 2525.5785355731964, 2443.9044836654507, 1749.8665219983955, 1684.0109795319074, 1377.4171974666644, 1276.8721000192127, 1276.3560096174328, 1267.5144809638844, 1229.763679101305, 1717.3116109153523, 1100.283237377538, 1095.4296435665135, 1595.5648981499317, 1005.3456653201355, 980.0173473259003, 912.5652576583096, 906.0011494544638, 898.8244663889984, 791.9215770507795, 774.6724039790819, 756.5370556506093, 742.4879409615954, 3974.6986887100857, 1760.0571357582317, 2863.2407427364583, 1411.384961536509, 4362.209599347201, 2162.9502484515183, 5812.417602434589, 7877.884787387949, 6376.5499721977685, 6987.607248941734, 9826.433640371255, 17446.330984576885, 18638.95495478311, 6903.072330905511, 5981.959536359635, 6738.9396725973975, 9406.691266357228, 3716.8789575851733, 16243.88136968873, 7387.769854791767, 6890.796439131352, 4856.356585848886, 4578.990718003719, 4093.0372951111085, 3609.802177499973, 3224.262413313575, 2448.2119515344634, 1533.6891284416592, 1302.4632826944546, 1162.5828716260874, 956.7680119150145, 940.7478962830388, 830.9107578259883, 826.838499618041, 716.794078529673, 558.6171463507086, 539.4900863732362, 537.9659188198289, 507.2971963244582, 503.49002077904595, 489.35019952095166, 485.62713879352873, 482.3283332908341, 463.405401631967, 461.44682119593347, 449.9335841519264, 437.6579354503124, 403.60077293571265, 357.90503296732544, 1924.8873017563121, 5810.852855401319, 4680.902648895169, 1770.4773790935067, 5776.802281840194, 946.9805192553978, 5538.298588540578, 4431.116367209206, 2992.976811986284, 7800.38550368966, 2511.483784766072, 3406.5527019384995, 19692.659860417894, 3379.9955658124627, 5326.984724322231, 7688.517672673956, 2972.943109804066, 7877.884787387949, 4845.12162283787, 3025.6242615734336, 7212.085065757788, 7025.243687508939, 9724.238607481315, 6738.9396725973975, 8154.3593711597405, 3513.399355707384, 2584.7891220916754, 2542.639186291033, 2146.8515767374884, 2105.588166884823, 1857.0917392772274, 1763.7894461769679, 1768.5682085172955, 1294.802558664363, 1150.2177992046675, 1131.069066753366, 1115.7331891991919, 1106.170495899693, 1123.935181738112, 1084.1321466492416, 1060.3846004784489, 1054.6361367979553, 1030.6670693268193, 1088.6220677555955, 961.3561331756868, 924.6921945294912, 916.43177445054, 844.5163609342593, 843.4941740093586, 794.9604079385152, 762.7637404180555, 704.2319739938407, 699.3608769461873, 662.7910960512044, 661.2549994981196, 3851.2476075858904, 2962.746927958073, 1963.7110917510322, 1895.6501802824762, 977.372882079209, 2454.990393138983, 6931.310059460011, 1206.551826638367, 2917.5832044008907, 1184.2009977601513, 9406.691266357228, 1080.0059200758622, 4467.287421103851, 3074.56597064152, 4005.0634811786363, 8154.3593711597405, 4959.8366319532515, 3220.5859901794015, 9826.433640371255, 2924.075087882186, 10842.31505149998, 1701.4824894778167, 10122.623393905713, 3189.3603400728775, 2396.8089242487927, 2260.624553901117, 2006.3671587438482, 1969.6709958584825, 1905.2065072553758, 1801.9462665228791, 1756.6298593349811, 1728.2892581973986, 1631.9968511782845, 872.9668721433218, 819.5437155152039, 792.9911359105585, 643.2612647111494, 620.0192715572045, 618.5891410409888, 569.2962770629227, 561.1519888219045, 615.2716565949796, 533.9451113079094, 500.88383712970386, 489.38625099666933, 421.6871952099307, 420.6852927585642, 419.63608757461367, 395.342806783028, 383.4384896083405, 381.6685654683177, 330.1600781271906, 1028.7839720408729, 16243.88136968873, 2783.5504231650602, 3234.527992820327, 2441.6973077773705, 3153.3605216049086, 2687.8790032602483, 2042.2044409429654, 2728.823697083484, 1026.4511403551091, 3659.0204748139927, 3062.416377613609, 1303.7472633452671, 1377.8215745553096, 2096.2555566431733, 6738.9396725973975, 18638.95495478311, 4461.753803072266, 4867.654596699814, 2941.457489850085, 9596.889032408764, 1520.7677394684824, 2074.809254721988, 4187.552805126058, 2924.075087882186, 4107.232991374484, 3834.502282379717, 2574.4169422324617, 2531.9081860584124, 2333.757663286571, 2042.103671557544, 1798.71611784815, 1561.735780496494, 1502.417041943238, 1478.7790535783643, 1321.255579127278, 1301.0979947738103, 1260.0486878051554, 1068.6266207844828, 1041.299160208932, 944.7342457864492, 924.862613006889, 943.6748238988151, 905.2937459386329, 989.1452683178937, 780.7684310243694, 759.891782683492, 748.6775982108977, 743.3800788454566, 695.8240616359392, 680.1616206436721, 636.6882037411657, 736.5329254394293, 604.8685460417876, 556.7232417859541, 5268.99942884803, 4540.550120364289, 1682.4331106304587, 5726.95977798663, 1712.7958143753945, 2802.035726780311, 3841.543411598185, 17446.330984576885, 6310.433286975669, 1950.1384267518738, 1759.8576525909803, 5981.959536359635, 1366.3315672633196, 1284.636269807173, 6516.334983896699, 4959.8366319532515, 3220.7832333977135, 4086.309394561348, 3841.7152551475638, 6431.87800162385, 4537.403361131042, 3924.1635838915718, 3682.061086722997, 3105.863514059, 3092.7535677793053, 3039.037873487095, 2724.9294176895773, 2630.9281713519786, 2517.3812831855894, 1914.2855594927144, 1669.296954961225, 1491.4765561647127, 1414.372412362132, 1177.5597976160577, 954.2686893960715, 917.1817138901364, 837.6729095086896, 708.4232960746508, 704.9287983224124, 695.5590354110393, 627.0476343927113, 598.9494217963503, 589.0498816996634, 579.1416983815686, 559.3014756875845, 545.9112119099323, 542.1073518780137, 546.2368721810006, 519.0793490365273, 1086.6019833907753, 1841.3730373799315, 4885.867865979702, 1412.3671603018229, 9724.238607481315, 4867.654596699814, 996.6761894408869, 1693.0586910249056, 6310.433286975669, 5812.417602434589, 10842.31505149998, 3266.461694240065], \"Category\": [\"Default\", \"Default\", \"Default\", \"Default\", \"Default\", \"Default\", \"Default\", \"Default\", \"Default\", \"Default\", \"Default\", \"Default\", \"Default\", \"Default\", \"Default\", \"Default\", \"Default\", \"Default\", \"Default\", \"Default\", \"Default\", \"Default\", \"Default\", \"Default\", \"Default\", \"Default\", \"Default\", \"Default\", \"Default\", \"Default\", \"Topic1\", \"Topic1\", \"Topic1\", \"Topic1\", \"Topic1\", \"Topic1\", \"Topic1\", \"Topic1\", \"Topic1\", \"Topic1\", \"Topic1\", \"Topic1\", \"Topic1\", \"Topic1\", \"Topic1\", \"Topic1\", \"Topic1\", \"Topic1\", \"Topic1\", \"Topic1\", \"Topic1\", \"Topic1\", \"Topic1\", \"Topic1\", \"Topic1\", \"Topic1\", \"Topic1\", \"Topic1\", \"Topic1\", \"Topic1\", \"Topic1\", \"Topic1\", \"Topic1\", \"Topic1\", \"Topic1\", \"Topic1\", \"Topic1\", \"Topic1\", \"Topic1\", \"Topic1\", \"Topic1\", \"Topic1\", \"Topic1\", \"Topic1\", \"Topic1\", \"Topic1\", \"Topic1\", \"Topic1\", \"Topic1\", \"Topic1\", \"Topic1\", \"Topic1\", \"Topic1\", \"Topic1\", \"Topic2\", \"Topic2\", \"Topic2\", \"Topic2\", \"Topic2\", \"Topic2\", \"Topic2\", \"Topic2\", \"Topic2\", \"Topic2\", \"Topic2\", \"Topic2\", \"Topic2\", \"Topic2\", \"Topic2\", \"Topic2\", \"Topic2\", \"Topic2\", \"Topic2\", \"Topic2\", \"Topic2\", \"Topic2\", \"Topic2\", \"Topic2\", \"Topic2\", \"Topic2\", \"Topic2\", \"Topic2\", \"Topic2\", \"Topic2\", \"Topic2\", \"Topic2\", \"Topic2\", \"Topic2\", \"Topic2\", \"Topic2\", \"Topic2\", \"Topic2\", \"Topic2\", \"Topic2\", \"Topic2\", \"Topic2\", \"Topic2\", \"Topic2\", \"Topic2\", \"Topic2\", \"Topic2\", \"Topic2\", \"Topic2\", \"Topic3\", \"Topic3\", \"Topic3\", \"Topic3\", \"Topic3\", \"Topic3\", \"Topic3\", \"Topic3\", \"Topic3\", \"Topic3\", \"Topic3\", \"Topic3\", \"Topic3\", \"Topic3\", \"Topic3\", \"Topic3\", \"Topic3\", \"Topic3\", \"Topic3\", \"Topic3\", \"Topic3\", \"Topic3\", \"Topic3\", \"Topic3\", \"Topic3\", \"Topic3\", \"Topic3\", \"Topic3\", \"Topic3\", \"Topic3\", \"Topic3\", \"Topic3\", \"Topic3\", \"Topic3\", \"Topic3\", \"Topic3\", \"Topic3\", \"Topic3\", \"Topic3\", \"Topic3\", \"Topic3\", \"Topic3\", \"Topic3\", \"Topic3\", \"Topic3\", \"Topic3\", \"Topic3\", \"Topic3\", \"Topic3\", \"Topic3\", \"Topic3\", \"Topic3\", \"Topic3\", \"Topic3\", \"Topic3\", \"Topic4\", \"Topic4\", \"Topic4\", \"Topic4\", \"Topic4\", \"Topic4\", \"Topic4\", \"Topic4\", \"Topic4\", \"Topic4\", \"Topic4\", \"Topic4\", \"Topic4\", \"Topic4\", \"Topic4\", \"Topic4\", \"Topic4\", \"Topic4\", \"Topic4\", \"Topic4\", \"Topic4\", \"Topic4\", \"Topic4\", \"Topic4\", \"Topic4\", \"Topic4\", \"Topic4\", \"Topic4\", \"Topic4\", \"Topic4\", \"Topic4\", \"Topic4\", \"Topic4\", \"Topic4\", \"Topic4\", \"Topic4\", \"Topic4\", \"Topic4\", \"Topic4\", \"Topic4\", \"Topic4\", \"Topic4\", \"Topic4\", \"Topic4\", \"Topic4\", \"Topic4\", \"Topic4\", \"Topic4\", \"Topic4\", \"Topic4\", \"Topic4\", \"Topic4\", \"Topic5\", \"Topic5\", \"Topic5\", \"Topic5\", \"Topic5\", \"Topic5\", \"Topic5\", \"Topic5\", \"Topic5\", \"Topic5\", \"Topic5\", \"Topic5\", \"Topic5\", \"Topic5\", \"Topic5\", \"Topic5\", \"Topic5\", \"Topic5\", \"Topic5\", \"Topic5\", \"Topic5\", \"Topic5\", \"Topic5\", \"Topic5\", \"Topic5\", \"Topic5\", \"Topic5\", \"Topic5\", \"Topic5\", \"Topic5\", \"Topic5\", \"Topic5\", \"Topic5\", \"Topic5\", \"Topic5\", \"Topic5\", \"Topic5\", \"Topic5\", \"Topic5\", \"Topic5\", \"Topic5\", \"Topic5\", \"Topic5\", \"Topic5\", \"Topic5\", \"Topic5\", \"Topic5\", \"Topic5\", \"Topic5\", \"Topic5\", \"Topic5\", \"Topic5\", \"Topic5\", \"Topic5\", \"Topic5\", \"Topic6\", \"Topic6\", \"Topic6\", \"Topic6\", \"Topic6\", \"Topic6\", \"Topic6\", \"Topic6\", \"Topic6\", \"Topic6\", \"Topic6\", \"Topic6\", \"Topic6\", \"Topic6\", \"Topic6\", \"Topic6\", \"Topic6\", \"Topic6\", \"Topic6\", \"Topic6\", \"Topic6\", \"Topic6\", \"Topic6\", \"Topic6\", \"Topic6\", \"Topic6\", \"Topic6\", \"Topic6\", \"Topic6\", \"Topic6\", \"Topic6\", \"Topic6\", \"Topic6\", \"Topic6\", \"Topic6\", \"Topic6\", \"Topic6\", \"Topic6\", \"Topic6\", \"Topic6\", \"Topic6\", \"Topic6\", \"Topic6\", \"Topic6\", \"Topic6\", \"Topic6\", \"Topic6\", \"Topic6\", \"Topic6\", \"Topic7\", \"Topic7\", \"Topic7\", \"Topic7\", \"Topic7\", \"Topic7\", \"Topic7\", \"Topic7\", \"Topic7\", \"Topic7\", \"Topic7\", \"Topic7\", \"Topic7\", \"Topic7\", \"Topic7\", \"Topic7\", \"Topic7\", \"Topic7\", \"Topic7\", \"Topic7\", \"Topic7\", \"Topic7\", \"Topic7\", \"Topic7\", \"Topic7\", \"Topic7\", \"Topic7\", \"Topic7\", \"Topic7\", \"Topic7\", \"Topic7\", \"Topic7\", \"Topic7\", \"Topic7\", \"Topic7\", \"Topic7\", \"Topic7\", \"Topic7\", \"Topic7\", \"Topic7\", \"Topic7\", \"Topic7\"], \"logprob\": [30.0, 29.0, 28.0, 27.0, 26.0, 25.0, 24.0, 23.0, 22.0, 21.0, 20.0, 19.0, 18.0, 17.0, 16.0, 15.0, 14.0, 13.0, 12.0, 11.0, 10.0, 9.0, 8.0, 7.0, 6.0, 5.0, 4.0, 3.0, 2.0, 1.0, -3.5823, -3.5943, -3.6651, -4.0728, -4.2973, -4.5538, -4.6446, -4.6571, -4.6633, -4.8021, -4.8244, -4.8395, -4.8411, -4.8399, -5.039, -5.2345, -5.2679, -5.3792, -5.5049, -5.6356, -5.647, -5.6779, -5.6749, -5.6928, -5.7119, -5.7197, -5.7134, -5.733, -5.745, -5.7506, -3.9705, -3.1149, -3.3616, -4.3411, -4.1904, -3.7956, -4.1251, -3.7022, -5.2767, -4.4243, -3.8684, -4.1099, -3.7843, -3.3785, -4.4404, -4.1833, -4.4173, -4.3094, -3.8867, -4.4328, -4.3746, -4.4081, -4.53, -4.6335, -3.2394, -3.5609, -3.0697, -3.7364, -4.0157, -4.1071, -4.1846, -4.28, -4.3457, -4.3786, -4.7128, -4.7512, -4.9523, -5.0282, -5.0286, -5.0355, -5.0658, -4.7319, -5.1771, -5.1816, -4.8055, -5.2675, -5.293, -5.3644, -5.3716, -5.3796, -5.5064, -5.5284, -5.5521, -5.5709, -3.9052, -4.7129, -4.2502, -4.9564, -3.9146, -4.7132, -3.9972, -3.8481, -4.0224, -4.0581, -3.9837, -3.7823, -3.9129, -4.4585, -4.564, -4.6449, -4.5883, -4.7643, -4.7577, -3.2058, -3.2755, -3.6254, -3.6843, -3.7965, -3.9221, -4.0351, -4.3106, -4.7785, -4.942, -5.0558, -5.2508, -5.2677, -5.392, -5.3969, -5.5399, -5.7897, -5.8246, -5.8274, -5.8862, -5.8938, -5.9223, -5.9299, -5.9368, -5.9769, -5.9811, -6.0065, -6.0342, -6.1154, -6.2359, -4.5597, -3.4677, -3.708, -4.6611, -3.5228, -5.2803, -3.5845, -3.8556, -4.2345, -3.3459, -4.4057, -4.1887, -2.6711, -4.253, -3.8702, -3.8438, -4.5057, -3.8905, -4.2124, -4.641, -4.3531, -4.3759, -4.2949, -4.4474, -4.4462, -3.8304, -4.1374, -4.1539, -4.3231, -4.3426, -4.4682, -4.5198, -4.5171, -4.8291, -4.9476, -4.9644, -4.978, -4.9867, -4.9707, -5.0068, -5.029, -5.0344, -5.0574, -5.0027, -5.1271, -5.166, -5.175, -5.2568, -5.258, -5.3174, -5.3588, -5.4387, -5.4457, -5.4994, -5.5018, -3.7403, -4.0032, -4.4168, -4.454, -5.1126, -4.2085, -3.2306, -4.9108, -4.078, -4.9359, -3.0818, -5.0309, -3.9395, -4.3262, -4.1674, -3.8014, -4.1184, -4.4825, -4.032, -4.5908, -4.3615, -4.8743, -2.6167, -3.7719, -4.0576, -4.1162, -4.2355, -4.254, -4.2873, -4.3431, -4.3685, -4.3848, -4.4422, -5.0684, -5.1316, -5.1646, -5.3742, -5.4111, -5.4134, -5.4966, -5.511, -5.4189, -5.5608, -5.6248, -5.6481, -5.7974, -5.7997, -5.8022, -5.862, -5.8927, -5.8973, -6.0428, -4.9101, -2.2555, -3.9831, -3.845, -4.1244, -3.9153, -4.0769, -4.3411, -4.0921, -5.0081, -3.9749, -4.2608, -4.912, -4.8981, -4.6418, -3.9262, -3.46, -4.2483, -4.2393, -4.504, -4.0949, -4.8548, -4.7796, -4.6113, -4.7038, -3.5152, -3.5839, -3.9825, -3.9992, -4.0807, -4.2142, -4.3412, -4.4826, -4.5213, -4.5372, -4.6499, -4.6653, -4.6974, -4.8623, -4.8883, -4.9857, -5.007, -4.9868, -5.0284, -4.9398, -5.1766, -5.2037, -5.2186, -5.2257, -5.2919, -5.3147, -5.3809, -5.2352, -5.4323, -5.5153, -3.2766, -3.4256, -4.4446, -3.2703, -4.4317, -3.9764, -3.6981, -2.4227, -3.362, -4.3919, -4.4951, -3.5536, -4.7141, -4.7834, -3.9226, -4.0941, -4.4379, -4.5365, -4.6983, -2.8356, -3.1846, -3.3298, -3.3935, -3.5637, -3.568, -3.5855, -3.6946, -3.7297, -3.7739, -4.0479, -4.1849, -4.2976, -4.3507, -4.5341, -4.7445, -4.7842, -4.875, -5.0428, -5.0478, -5.0611, -5.165, -5.2109, -5.2276, -5.2447, -5.2795, -5.3038, -5.3108, -5.3032, -5.3543, -4.6156, -4.0979, -3.3278, -4.6569, -3.4364, -3.9752, -4.9379, -4.7337, -4.2756, -4.6559, -4.6632, -5.0035], \"loglift\": [30.0, 29.0, 28.0, 27.0, 26.0, 25.0, 24.0, 23.0, 22.0, 21.0, 20.0, 19.0, 18.0, 17.0, 16.0, 15.0, 14.0, 13.0, 12.0, 11.0, 10.0, 9.0, 8.0, 7.0, 6.0, 5.0, 4.0, 3.0, 2.0, 1.0, 1.395, 1.395, 1.395, 1.395, 1.3949, 1.3948, 1.3948, 1.3948, 1.3948, 1.3947, 1.3947, 1.3947, 1.3947, 1.3947, 1.3946, 1.3945, 1.3945, 1.3944, 1.3943, 1.3942, 1.3942, 1.3942, 1.3942, 1.3942, 1.3942, 1.3942, 1.3942, 1.3941, 1.3941, 1.3941, 1.3865, 1.3577, 1.3591, 1.3605, 1.2984, 1.209, 1.2372, 1.1832, 1.3487, 1.2412, 1.1248, 1.1077, 0.9469, 0.8109, 1.1008, 0.9994, 1.0218, 0.8295, 0.2477, 0.7377, 0.4786, 0.4319, 0.6351, 0.9833, 1.8427, 1.8427, 1.8427, 1.8427, 1.8426, 1.8426, 1.8425, 1.8425, 1.8425, 1.8425, 1.8423, 1.8423, 1.8421, 1.8421, 1.8421, 1.8421, 1.842, 1.8419, 1.8419, 1.8419, 1.8419, 1.8419, 1.8418, 1.8418, 1.8417, 1.8417, 1.8416, 1.8415, 1.8415, 1.8415, 1.8295, 1.8364, 1.8125, 1.8137, 1.727, 1.6299, 1.3575, 1.2025, 1.2397, 1.1124, 0.8459, 0.4732, 0.2765, 0.7242, 0.7619, 0.5618, 0.285, 1.0374, -0.4308, 1.909, 1.909, 1.9089, 1.9089, 1.9089, 1.9089, 1.9088, 1.9087, 1.9085, 1.9084, 1.9083, 1.9081, 1.908, 1.9079, 1.9079, 1.9077, 1.9073, 1.9072, 1.9072, 1.9071, 1.9071, 1.907, 1.907, 1.907, 1.9069, 1.9069, 1.9068, 1.9068, 1.9066, 1.9063, 1.9, 1.8872, 1.8631, 1.8823, 1.838, 1.8888, 1.8184, 1.7704, 1.7839, 1.7146, 1.7881, 1.7002, 1.4633, 1.6437, 1.5717, 1.2312, 1.5194, 1.1601, 1.3243, 1.3665, 0.7858, 0.7892, 0.5451, 0.7594, 0.5699, 2.0277, 2.0276, 2.0276, 2.0275, 2.0275, 2.0274, 2.0274, 2.0274, 2.0272, 2.0271, 2.0271, 2.0271, 2.0271, 2.0271, 2.0271, 2.0271, 2.0271, 2.027, 2.027, 2.027, 2.0269, 2.0269, 2.0268, 2.0268, 2.0268, 2.0267, 2.0266, 2.0266, 2.0265, 2.0265, 2.0259, 2.0254, 2.023, 2.0211, 2.0249, 2.008, 1.948, 2.0161, 1.9659, 2.0097, 1.7914, 2.0068, 1.6784, 1.6653, 1.5597, 1.2147, 1.3949, 1.4626, 0.7976, 1.4509, 0.3697, 1.7088, 2.1832, 2.183, 2.1829, 2.1828, 2.1828, 2.1828, 2.1828, 2.1827, 2.1827, 2.1827, 2.1827, 2.1821, 2.182, 2.182, 2.1817, 2.1816, 2.1816, 2.1814, 2.1814, 2.1814, 2.1813, 2.1812, 2.1811, 2.1808, 2.1808, 2.1808, 2.1806, 2.1805, 2.1805, 2.1801, 2.1762, 2.0715, 2.1078, 2.0958, 2.0975, 2.0509, 2.049, 2.0595, 2.0187, 2.0804, 1.8426, 1.7346, 1.9374, 1.896, 1.7327, 1.2805, 0.7294, 1.3708, 1.2928, 1.5317, 0.7584, 1.8407, 1.6052, 1.0712, 1.3379, 2.1867, 2.1867, 2.1865, 2.1865, 2.1865, 2.1864, 2.1864, 2.1863, 2.1862, 2.1862, 2.1861, 2.1861, 2.1861, 2.1859, 2.1859, 2.1858, 2.1858, 2.1858, 2.1858, 2.1857, 2.1856, 2.1855, 2.1855, 2.1855, 2.1854, 2.1853, 2.1852, 2.1852, 2.1851, 2.185, 2.1763, 2.176, 2.1498, 2.0992, 2.1448, 2.1079, 2.0707, 1.8328, 1.9104, 2.0549, 2.0543, 1.7723, 2.0884, 2.0808, 1.3177, 1.4192, 1.5071, 1.1705, 1.0705, 2.4178, 2.4177, 2.4177, 2.4177, 2.4176, 2.4176, 2.4176, 2.4176, 2.4176, 2.4176, 2.4174, 2.4174, 2.4173, 2.4172, 2.4171, 2.4169, 2.4169, 2.4168, 2.4166, 2.4166, 2.4166, 2.4164, 2.4163, 2.4163, 2.4162, 2.4162, 2.4162, 2.4161, 2.4161, 2.416, 2.416, 2.4063, 2.2005, 2.1125, 1.4036, 1.5568, 2.18, 1.8544, 0.9969, 0.6987, 0.068, 0.9275]}, \"token.table\": {\"Topic\": [4, 2, 6, 2, 6, 1, 2, 4, 1, 2, 3, 4, 5, 1, 2, 3, 5, 1, 3, 5, 7, 1, 3, 4, 7, 4, 5, 1, 4, 4, 7, 1, 3, 5, 5, 2, 7, 1, 5, 6, 2, 3, 5, 1, 2, 3, 5, 6, 6, 3, 5, 6, 1, 2, 7, 6, 2, 7, 7, 5, 1, 1, 2, 4, 7, 1, 3, 4, 5, 6, 3, 6, 4, 4, 5, 3, 4, 2, 5, 2, 2, 4, 3, 2, 2, 2, 5, 1, 6, 7, 2, 5, 7, 5, 1, 2, 1, 2, 3, 7, 4, 2, 4, 2, 1, 2, 3, 4, 5, 7, 4, 1, 7, 4, 6, 4, 1, 3, 4, 6, 7, 2, 6, 5, 6, 7, 5, 3, 4, 1, 3, 5, 1, 2, 2, 1, 3, 3, 6, 5, 7, 7, 3, 3, 1, 4, 6, 1, 4, 5, 1, 5, 7, 5, 2, 3, 1, 2, 6, 1, 2, 5, 7, 2, 6, 6, 4, 7, 6, 2, 3, 5, 7, 7, 2, 4, 1, 2, 3, 5, 6, 4, 2, 7, 7, 6, 2, 5, 7, 3, 4, 5, 1, 3, 4, 7, 2, 7, 7, 6, 3, 6, 3, 7, 2, 4, 6, 3, 1, 5, 2, 7, 6, 7, 1, 3, 6, 7, 2, 5, 7, 1, 3, 3, 1, 4, 7, 4, 4, 2, 3, 7, 1, 3, 4, 7, 1, 2, 3, 4, 5, 2, 7, 5, 1, 3, 4, 7, 1, 4, 5, 2, 1, 4, 4, 1, 3, 4, 7, 1, 2, 3, 5, 6, 6, 6, 6, 3, 1, 1, 3, 1, 2, 4, 5, 2, 1, 2, 3, 4, 5, 6, 7, 1, 2, 3, 5, 6, 1, 3, 4, 5, 7, 5, 4, 6, 7, 1, 3, 7, 7, 2, 3, 4, 4, 7, 2, 3, 5, 2, 1, 1, 3, 5, 2, 5, 7, 2, 3, 4, 7, 4, 3, 1, 1, 2, 4, 5, 6, 1, 1, 2, 5, 6, 3, 3, 6, 5, 1, 2, 1, 2, 2, 3, 1, 3, 2, 3, 4, 1, 2, 3, 6, 7, 1, 2, 3, 3, 3, 4, 5, 7, 2, 1, 2, 3, 5, 6, 1, 2, 3, 4, 6, 7, 6, 1, 2, 3, 4, 7, 5, 3, 1, 1, 3, 5, 2, 3, 4, 5, 5, 6, 1, 5, 7, 1, 4, 5, 1, 3, 1, 1, 6, 1, 3, 4, 7, 1, 3, 7, 4, 7, 6, 1, 1, 2, 3, 5, 6, 3, 5, 6, 1, 5, 6, 6, 4, 7, 1, 4, 3, 4, 7, 4, 5, 1, 1, 1, 2, 5, 1, 3, 3, 1, 3, 5, 6, 2, 4, 1, 4, 7, 1, 6, 1, 3, 2, 3, 7, 2, 1, 2, 3, 5, 6, 1, 2, 5, 6, 5, 3, 5, 7, 1, 2, 7, 1, 2, 3, 5, 6, 7, 2, 5, 4, 4, 5, 2, 7, 3, 3, 4, 4, 4, 5, 5, 7, 4, 3, 2, 5, 4, 1, 3, 4, 5, 1, 5, 2, 3, 4, 5, 2, 3, 4, 6, 1, 3, 4, 6, 7, 5, 2, 4, 2, 3, 4, 5, 6, 1, 2, 6, 5, 5, 7, 1, 6, 2, 3, 6, 4, 3, 1, 2, 4, 6, 1, 1, 3, 4, 5, 6, 7, 1, 5, 3, 1, 3, 4, 1, 3, 4, 7, 4, 7, 2, 5, 7, 4, 2, 6, 1, 2, 5, 7, 2, 6, 6, 5, 5, 3, 5, 7, 3, 5, 7, 5, 1, 2, 4, 5, 6, 7, 1], \"Freq\": [0.9989987195541874, 0.9996299022030132, 0.9990568251665961, 0.9990192199942816, 0.0006267372772862494, 0.5182031374972308, 0.4817099588002427, 0.9994141346501426, 0.22673536315824785, 0.3690046798975793, 0.10726170231992516, 0.2921711075526614, 0.004783017086372374, 0.5680742756976231, 0.03577328853551056, 0.32514868843322586, 0.07085329628544922, 0.467599437986872, 0.3262520279652696, 0.16540351505045517, 0.04056798777055054, 0.0002596561171580547, 0.0002596561171580547, 0.9978584582384044, 0.0012982805857902737, 0.9991679397946545, 0.9983560647161102, 0.3737768469925608, 0.6262073027771159, 0.9981020945035243, 0.999703482317519, 0.6623528348219266, 0.18962701010431932, 0.14781067650820173, 0.9988924297425538, 0.9989375929543048, 0.9987115814977119, 0.054355115793780995, 0.06871307090911938, 0.8763480461469031, 0.09675555202624325, 0.8859304660839146, 0.016723181831696365, 0.0015416634140002377, 0.0041845149808577885, 0.00022023763057146253, 0.004845227872572176, 0.9890871988964383, 0.9990949399147017, 0.9988921803995621, 0.9996414387859606, 0.9991677402505914, 0.9997905167155582, 0.9995906439075505, 0.9997118226183637, 0.9988421636795156, 0.0009203001791690725, 0.9976053942192745, 0.9996584861622984, 0.9987501298997241, 0.9997125715513384, 0.6387012337408478, 0.0753529108976567, 0.19045747980864267, 0.09536708674195474, 0.2170279554214523, 0.021423360406409457, 0.2396932497644652, 0.015213690723392221, 0.5067090461342063, 0.997925062309616, 0.9994595418572936, 0.9987918795339685, 0.9989418485630998, 0.9993891831485062, 0.9972379726507054, 0.9985893540084807, 0.9867414632309681, 0.013082752699645676, 0.9979960065618461, 0.9998152124290474, 0.9997206638534196, 0.9997836383463666, 0.9988362773821473, 0.9993790033692791, 0.9990827281412236, 0.999254026378233, 0.1004175290951136, 0.8990871791074124, 0.9979908960044973, 0.9989619088593928, 0.8483508855754327, 0.15134726381972083, 0.99824830879772, 0.6731785178021493, 0.3266661410897023, 0.20421794874181326, 0.6154065734199377, 0.001032272697936714, 0.179271358541676, 0.9989557115774671, 0.019552011337456425, 0.9804519018595336, 0.9988949799290359, 0.31742791701615003, 0.009800605980501833, 0.6402893306121638, 0.021683205977586956, 0.00177731196537598, 0.009038900852483555, 0.9997486130574564, 0.999647003616114, 0.9994513015589591, 0.9996017088962259, 0.998815704024374, 0.9982506133783532, 0.13381755268182258, 0.17970224104405302, 0.15729700859961943, 0.4192540756040588, 0.10987771527544148, 0.3391865136611677, 0.660485912013442, 0.997723018549128, 0.9985640747109908, 0.999223053179741, 0.9979331786514966, 0.999608464463574, 0.999603336929895, 0.08161932763791195, 0.0018549847190434535, 0.916362451207466, 0.9996427500022211, 0.9992901132249927, 0.999399659774078, 0.999838903229196, 0.9994986407934325, 0.9972408317759481, 0.998919088280383, 0.9990476052651079, 0.9996472076425023, 0.9979206473181206, 0.9974429262888563, 0.999504964619708, 0.004838869055763329, 0.5310658788700253, 0.4641281902652993, 0.008891700527030914, 0.5615450871301831, 0.42919554467014603, 0.09196538042925836, 0.8758909680883158, 0.03171220014802013, 0.9994748641840996, 0.0864886557382641, 0.9132768699877658, 0.5023797631576074, 0.16997615820824744, 0.3274578974364093, 0.9999373534822056, 0.011612534086762273, 0.7504600153570119, 0.23733116539820398, 0.035662636226599334, 0.9634855553886253, 0.9994731778378392, 0.9988064172015624, 0.9991962789891602, 0.9979187278850912, 0.9988051568746318, 0.2170666109579047, 0.7823602232405045, 0.9983308422870739, 0.9996589204536661, 0.05998115143246969, 0.9398189555876109, 0.010978301577298769, 0.048304526940114584, 0.0007318867718199179, 0.03293490473189631, 0.9060758235130584, 0.9993801690775226, 0.9993805838502332, 0.9990296669037542, 0.9997563440594956, 0.9996997999925805, 0.10293106443882133, 0.8941828414915549, 0.0028318355048958022, 0.766864911367702, 0.025443820361737025, 0.2073967217857867, 0.0016889024783654854, 0.0008444512391827427, 0.9820967911695297, 0.015200122305289368, 0.43058164720721787, 0.5693836871162662, 0.9984148548077686, 0.9996413037157457, 0.9998844198724506, 0.9991561014018769, 0.2626795711681071, 0.737060467886791, 0.25036989956372635, 0.7270130651650927, 0.02233346521929953, 0.9988952248337878, 0.8573017173961432, 0.14249237197685075, 0.999132015061298, 0.9996907127228176, 0.9988264346268586, 0.999721972953708, 0.06855003524092478, 0.9313110848388265, 0.9985709103322132, 0.9991966918100714, 0.9997880058510401, 0.0001105471036986997, 0.9995246121537174, 0.9992054913147742, 0.9989858967398973, 0.9985114673310888, 0.20263022681865195, 0.6957079537160458, 0.1011524888292147, 0.9996947054268641, 0.9984376638933122, 0.9998456818817587, 0.9970406150716941, 0.9976730336962111, 0.0009259208504428917, 0.002777762551328675, 0.9786983389181365, 0.01666657530797205, 0.3634769965384436, 0.44688030440440774, 0.09846971186755764, 0.09093650986676088, 0.9993185899510515, 0.969880023901156, 0.029686640990852813, 0.9993667315061222, 0.00033752460953160137, 0.00033752460953160137, 0.997385221165882, 0.002025147657189608, 0.45754646906293106, 0.21348984516819433, 0.32883167426913157, 0.9996738646526659, 0.43159847438899485, 0.5682195741955831, 0.9993968186981658, 0.0005275234905688069, 0.0005275234905688069, 0.9933267327410634, 0.005275234905688069, 0.000356883386761472, 0.0267662540071104, 0.004996367414660608, 0.043539773184899586, 0.9239710883254509, 0.9987008952893112, 0.9992228017670325, 0.9996082197195134, 0.998903904158888, 0.9988851867578379, 0.32257596751093015, 0.6771068014593351, 0.8301214256772671, 0.029097289639629636, 0.012245109390010804, 0.12851302924169755, 0.9988337208693677, 0.020456199935829124, 0.022160883263814882, 0.003977594431966774, 0.0005682277759952534, 0.07727897753535447, 0.8756390028086855, 0.0005682277759952534, 0.00017209177807186727, 0.003958110895652947, 0.9783417583385654, 0.0037860191175810797, 0.013767342245749381, 0.9986063849590281, 0.9968645981953376, 0.15249395980696467, 0.6383847782068863, 0.20898529823652545, 0.9982354448992232, 0.9993527790431347, 0.7584265267296302, 0.24150481126952703, 0.3816237085281878, 0.2556498354624292, 0.36259908279988956, 0.9986824225019283, 0.28985753820731475, 0.5813676279437476, 0.12856850896538818, 0.9965490324715847, 0.0020463019147260466, 0.27778850842249386, 0.31666702829786425, 0.40540502404393863, 0.9998478852911478, 0.9985941537976863, 0.9078172413771829, 0.006689593889645474, 0.08539069847370988, 0.4347211548520424, 0.3398172407646247, 0.22532026054303042, 0.012983270278514654, 0.14124902665073702, 0.7049020363283215, 0.14080132767561582, 0.9993885720180861, 0.9974713041618276, 0.9995363556098149, 0.853864456737418, 0.02739301201309889, 0.03380783128198914, 0.03779542163832632, 0.04698421680727721, 0.9996022250004641, 0.5575419880143665, 0.2088099901223936, 0.2336504385876218, 0.9996018727796765, 0.9984966902299272, 0.9988765267214078, 0.999067306868331, 0.9962484475415866, 0.9997439327995602, 0.9986949015165786, 0.9993469148267701, 0.9997204286971826, 0.9996332783368737, 0.9997777779887849, 0.02598169315416627, 0.9737486738648402, 0.9997709294860375, 0.9799568007266697, 0.019007782772715576, 0.00022927456801869275, 0.2542081772907256, 0.04373412384956564, 0.7018094527052186, 0.999680480284626, 0.11188318173295136, 0.1743950936743487, 0.7135368687364901, 0.9998957933440134, 0.3872916517289988, 0.0703759135664963, 0.4437716842728111, 0.09861592983840246, 0.9993170028390475, 0.0031237444730600294, 0.02420901966621523, 0.010152169537445096, 0.07184612288038068, 0.8902671748221084, 0.0028340956641945414, 0.9713862889026791, 0.015587526153069978, 0.0007085239160486353, 0.008502286992583624, 0.0007085239160486353, 0.9987523660264247, 0.9632731519842747, 0.015382744405485977, 0.005056365059210669, 0.012462871624815028, 0.003774469692086837, 0.9996593360719159, 0.9969672307939925, 0.9991034837053471, 0.9993179819067207, 0.9907073511576541, 0.008831685878175207, 0.018956848125589773, 0.8704352764333304, 0.046715090023774795, 0.06386652404216554, 0.998229946696966, 0.9994136204617261, 0.9998740232738377, 0.998116371968964, 0.9977356486828469, 0.991354919243607, 0.00844953749224852, 0.9983703673772011, 0.18816676449339498, 0.8113774369106767, 0.999420750082725, 0.9995177906558484, 0.9995288700523592, 0.0005092398796343838, 0.0005092398796343838, 0.9950547248055859, 0.0035646791574406866, 0.10435381682289546, 0.823292643288249, 0.07230411878146566, 0.01086146022234461, 0.9883928802333595, 0.9990158016207683, 0.9988338044916669, 0.0009742304925045354, 0.022407301327604316, 0.01266499640255896, 0.9021374360591998, 0.0604022905352812, 0.0029160640926867124, 0.9924338128777112, 0.0029160640926867124, 0.9645791610966692, 0.009582818801698388, 0.025736713353132816, 0.9990497076060733, 0.9986942469007716, 0.9980286372320295, 0.9546341577178523, 0.04475805620642467, 0.20969699307981296, 0.0020066697902374445, 0.7886212275633157, 0.9994285732633751, 0.999662499483956, 0.9988915249186353, 0.999400000244722, 0.4461660321654204, 0.5470042601732816, 0.0067434584826408005, 0.9998847666005786, 0.9997206576937041, 0.9991972851250771, 0.7631126977256059, 0.11781683396643168, 0.026367958771734454, 0.09264741877523061, 0.21059477173286126, 0.7893317416034805, 0.07675316721316112, 0.923202099618455, 0.9983292586794846, 0.999003315847974, 0.9994496065461592, 0.966031150541411, 0.033831778766756394, 0.9986614899068501, 0.9997465708137213, 0.9998634921832118, 0.9989711196656532, 0.002938001641613102, 0.009793338805377007, 0.011752006566452408, 0.883359160245006, 0.09205738477054387, 0.7450774707979025, 0.0043535411482348236, 0.168958858848161, 0.08168072440021526, 0.9979471001709839, 0.2886018286229136, 0.7111192784818383, 0.9986705113453168, 0.0005823055021837216, 0.9992362417472661, 0.9979573199400866, 0.0020477558721442844, 0.00778147231414828, 0.010238779360721421, 0.9178041818950682, 0.06184222733875738, 0.9993284390166663, 0.3620741743985739, 0.6373268735131683, 0.9995524147291622, 0.9994121242079014, 0.9966034369160409, 0.9937177404451315, 0.005681633736107098, 0.9992049981870873, 0.8823990848921095, 0.11760866258312098, 0.9989412446881716, 0.4385945348609574, 0.5610154270089609, 0.998484192390864, 0.9982176692801736, 0.999342863324055, 0.9972459978003549, 0.47833429680865774, 0.5211702039855525, 0.9996787183471019, 0.6883581573038783, 0.22464775326751532, 0.056723557700047625, 0.030140240230058308, 0.9995052468697475, 0.9971673683233926, 0.2569594938817619, 0.5572615529965921, 0.15582684167126928, 0.029720616159818247, 0.9995048068024035, 0.4008507045942452, 0.2371332922782806, 0.36194028821421775, 0.9994974107098283, 0.9987086001925536, 0.007401784822080847, 0.9893719045514732, 0.0030366296705972703, 0.9964863161719276, 0.8081554354989967, 0.1914052347234466, 0.20185945666952426, 0.5076401155806399, 0.04149044244689319, 0.1379979919628642, 0.11094466271849497, 0.031864585328683234, 0.890603697855643, 0.07748366792154629, 0.9983710085178626, 0.8742953076197181, 0.1253776675182319, 0.9995659571305111, 0.9992848978464561, 0.5270450269401146, 0.47284266024853727, 0.9981435084356847, 0.9992514324944168, 0.9995506726696567, 0.7501981347943399, 0.2496160160563451, 0.9980541134183404, 0.9996753462030397, 0.999733388627712, 0.399921264801442, 0.17620293350162544, 0.1166002853863506, 0.24049460113645862, 0.04939100560601446, 0.01740147243924982, 0.9996843651187559, 0.9995734755788533, 0.9982044981177473, 0.29444373134839186, 0.2620684106170401, 0.4434437869869991, 0.0008288081605132113, 0.0016576163210264227, 0.9879393273317479, 0.008288081605132114, 0.19525702007676096, 0.804565352119232, 0.15913015098846092, 0.7101676159815611, 0.13085495887067652, 0.9990548174423736, 0.04086885279173041, 0.9586665183431619, 0.008622082000120764, 0.01580715033355473, 0.9272330684296538, 0.048139957834007596, 0.08381410357464547, 0.9160183069845628, 0.9982921402672312, 0.9980392652560609, 0.9997237250652528, 0.9549440215457273, 0.04101772978451446, 0.0038454121672982307, 0.1668154516449302, 0.4104646211657273, 0.42279088606559895, 0.9999384157760834, 0.8089893165285672, 0.07736942253046553, 0.08188891591889327, 0.004949921330182773, 0.01614104781581339, 0.010545484572998082, 0.9989919689303147], \"Term\": [\"able\", \"ache\", \"aches\", \"achy\", \"achy\", \"active\", \"active\", \"activities\", \"ago\", \"ago\", \"ago\", \"ago\", \"ago\", \"allergies\", \"allergies\", \"allergies\", \"allergies\", \"also\", \"also\", \"also\", \"also\", \"ambien\", \"ambien\", \"ambien\", \"ambien\", \"anything\", \"apartment\", \"appetite\", \"appetite\", \"appetitie\", \"asleep\", \"associated\", \"associated\", \"associated\", \"away\", \"bad\", \"bed\", \"beers\", \"beers\", \"beers\", \"began\", \"began\", \"began\", \"bending\", \"bending\", \"bending\", \"bending\", \"bending\", \"better\", \"bilateral\", \"birth\", \"body\", \"bowel\", \"boyfriend\", \"breast\", \"bright\", \"ca\", \"ca\", \"cancer\", \"cc\", \"change\", \"changes\", \"changes\", \"changes\", \"changes\", \"chest\", \"chest\", \"chest\", \"chest\", \"chest\", \"chief\", \"cholesterol\", \"coffee\", \"cold\", \"complains\", \"complaint\", \"concentration\", \"condoms\", \"condoms\", \"consistently\", \"constant\", \"constipation\", \"contacts\", \"contraception\", \"contraceptive\", \"contraceptives\", \"control\", \"cough\", \"cough\", \"cup\", \"cycles\", \"dad\", \"dad\", \"date\", \"day\", \"day\", \"days\", \"days\", \"days\", \"days\", \"death\", \"decreased\", \"decreased\", \"denied\", \"denies\", \"denies\", \"denies\", \"denies\", \"denies\", \"denies\", \"depression\", \"describes\", \"died\", \"difficulty\", \"diffuse\", \"doesnt\", \"drinks\", \"drinks\", \"drinks\", \"drinks\", \"drinks\", \"dull\", \"dull\", \"duration\", \"ear\", \"early\", \"emesis\", \"endorses\", \"energy\", \"episodes\", \"episodes\", \"episodes\", \"etoh\", \"ever\", \"every\", \"except\", \"experienced\", \"experiencing\", \"eye\", \"eyes\", \"falling\", \"falls\", \"fam\", \"family\", \"father\", \"father\", \"father\", \"feeling\", \"feeling\", \"feeling\", \"feels\", \"feels\", \"feels\", \"felt\", \"female\", \"female\", \"fever\", \"fever\", \"fever\", \"fh\", \"fhx\", \"fhx\", \"fhx\", \"food\", \"food\", \"forward\", \"friends\", \"gain\", \"generalized\", \"get\", \"getting\", \"getting\", \"glass\", \"glasses\", \"good\", \"good\", \"green\", \"green\", \"green\", \"green\", \"green\", \"guilt\", \"gyn\", \"hallucinations\", \"hctz\", \"head\", \"headache\", \"headache\", \"headache\", \"headaches\", \"headaches\", \"headaches\", \"heard\", \"heard\", \"heard\", \"heard\", \"hearing\", \"hearing\", \"heavy\", \"high\", \"history\", \"hld\", \"home\", \"home\", \"hours\", \"hours\", \"hours\", \"however\", \"hpi\", \"hpi\", \"hrs\", \"htn\", \"hurts\", \"husband\", \"hx\", \"hx\", \"hyperlipidemia\", \"hypertension\", \"ibuprofen\", \"ibuprofen\", \"ideation\", \"illicit\", \"improvement\", \"include\", \"increased\", \"increased\", \"increased\", \"interest\", \"intolerance\", \"joints\", \"known\", \"knows\", \"laparotomy\", \"laparotomy\", \"laparotomy\", \"laparotomy\", \"last\", \"last\", \"last\", \"last\", \"life\", \"light\", \"light\", \"like\", \"lisinopril\", \"lisinopril\", \"lisinopril\", \"lisinopril\", \"lives\", \"lives\", \"lives\", \"lmp\", \"loss\", \"loss\", \"lost\", \"lumpectomy\", \"lumpectomy\", \"lumpectomy\", \"lumpectomy\", \"madden\", \"madden\", \"madden\", \"madden\", \"madden\", \"make\", \"makes\", \"marijuana\", \"medical\", \"medication\", \"medications\", \"medications\", \"meds\", \"meds\", \"meds\", \"meds\", \"menstrual\", \"migraine\", \"migraine\", \"migraine\", \"migraine\", \"migraine\", \"migraine\", \"migraine\", \"migraines\", \"migraines\", \"migraines\", \"migraines\", \"migraines\", \"mild\", \"minimal\", \"mom\", \"mom\", \"mom\", \"monogamous\", \"mood\", \"morning\", \"morning\", \"mother\", \"mother\", \"mother\", \"mrs\", \"ms\", \"ms\", \"ms\", \"mva\", \"mva\", \"nausea\", \"nausea\", \"nausea\", \"neck\", \"neg\", \"negative\", \"negative\", \"negative\", \"never\", \"never\", \"never\", \"night\", \"night\", \"night\", \"night\", \"nights\", \"nil\", \"nka\", \"nkda\", \"nkda\", \"nkda\", \"nkda\", \"nkda\", \"non\", \"none\", \"none\", \"none\", \"nose\", \"noted\", \"notes\", \"nothing\", \"noticed\", \"numbness\", \"obgyn\", \"occasional\", \"ocp\", \"ocps\", \"old\", \"one\", \"one\", \"oral\", \"otherwise\", \"otherwise\", \"pain\", \"pain\", \"pain\", \"pain\", \"passed\", \"past\", \"past\", \"past\", \"patient\", \"per\", \"per\", \"per\", \"per\", \"periods\", \"photophobia\", \"photophobia\", \"photophobia\", \"photophobia\", \"photophobia\", \"pill\", \"pill\", \"pill\", \"pill\", \"pill\", \"pill\", \"pills\", \"pmh\", \"pmh\", \"pmh\", \"pmh\", \"pmh\", \"pmhx\", \"poor\", \"positive\", \"present\", \"presenting\", \"presenting\", \"presents\", \"presents\", \"presents\", \"presents\", \"previously\", \"progressively\", \"psh\", \"pshx\", \"psychomotor\", \"pt\", \"pt\", \"really\", \"recent\", \"recent\", \"refers\", \"regular\", \"relief\", \"remission\", \"remission\", \"remission\", \"remission\", \"reports\", \"reports\", \"reports\", \"retired\", \"retired\", \"rhinorrhea\", \"room\", \"roomate\", \"roomate\", \"roomate\", \"roomate\", \"roomate\", \"roommate\", \"roommate\", \"roommate\", \"ros\", \"ros\", \"ros\", \"runny\", \"sad\", \"saw\", \"says\", \"says\", \"seeing\", \"seeing\", \"seeing\", \"sensitivity\", \"severe\", \"severity\", \"sexual\", \"sexually\", \"sexually\", \"sexually\", \"sh\", \"sick\", \"significant\", \"since\", \"since\", \"since\", \"since\", \"sleep\", \"sleep\", \"sleeping\", \"sleeping\", \"sleeps\", \"smoke\", \"smokes\", \"smoking\", \"smoking\", \"soc\", \"social\", \"son\", \"sore\", \"sporting\", \"sporting\", \"sporting\", \"sporting\", \"sporting\", \"started\", \"started\", \"started\", \"started\", \"stated\", \"states\", \"states\", \"staying\", \"stiffness\", \"stiffness\", \"still\", \"store\", \"store\", \"store\", \"store\", \"store\", \"stroke\", \"subjective\", \"subjective\", \"suicidal\", \"support\", \"surg\", \"surgeries\", \"surgeries\", \"surgical\", \"symptoms\", \"symptoms\", \"system\", \"takes\", \"takes\", \"temperature\", \"things\", \"thoughts\", \"three\", \"throat\", \"throat\", \"throughout\", \"times\", \"times\", \"times\", \"times\", \"tingling\", \"tired\", \"tobacco\", \"tobacco\", \"tobacco\", \"tobacco\", \"today\", \"tried\", \"tried\", \"tried\", \"trouble\", \"two\", \"tylenol\", \"tylenol\", \"tylenol\", \"type\", \"urinary\", \"urinary\", \"use\", \"use\", \"use\", \"use\", \"use\", \"uses\", \"uses\", \"uses\", \"usually\", \"vision\", \"vision\", \"visual\", \"vomited\", \"vomiting\", \"vomiting\", \"vomitting\", \"wakes\", \"waking\", \"walking\", \"walking\", \"walks\", \"warm\", \"weakness\", \"week\", \"week\", \"week\", \"week\", \"week\", \"week\", \"weekend\", \"weekends\", \"weekly\", \"weeks\", \"weeks\", \"weeks\", \"wicks\", \"wicks\", \"wicks\", \"wicks\", \"wine\", \"wine\", \"without\", \"without\", \"without\", \"wk\", \"woke\", \"woke\", \"works\", \"works\", \"works\", \"works\", \"worse\", \"worse\", \"worsen\", \"worsening\", \"worst\", \"year\", \"year\", \"year\", \"years\", \"years\", \"years\", \"yesterday\", \"yo\", \"yo\", \"yo\", \"yo\", \"yo\", \"yo\", \"yr\"]}, \"R\": 30, \"lambda.step\": 0.01, \"plot.opts\": {\"xlab\": \"PC1\", \"ylab\": \"PC2\"}, \"topic.order\": [6, 2, 5, 7, 3, 1, 4]};\n",
       "\n",
       "function LDAvis_load_lib(url, callback){\n",
       "  var s = document.createElement('script');\n",
       "  s.src = url;\n",
       "  s.async = true;\n",
       "  s.onreadystatechange = s.onload = callback;\n",
       "  s.onerror = function(){console.warn(\"failed to load library \" + url);};\n",
       "  document.getElementsByTagName(\"head\")[0].appendChild(s);\n",
       "}\n",
       "\n",
       "if(typeof(LDAvis) !== \"undefined\"){\n",
       "   // already loaded: just create the visualization\n",
       "   !function(LDAvis){\n",
       "       new LDAvis(\"#\" + \"ldavis_el31111403072112842569110230766\", ldavis_el31111403072112842569110230766_data);\n",
       "   }(LDAvis);\n",
       "}else if(typeof define === \"function\" && define.amd){\n",
       "   // require.js is available: use it to load d3/LDAvis\n",
       "   require.config({paths: {d3: \"https://d3js.org/d3.v5\"}});\n",
       "   require([\"d3\"], function(d3){\n",
       "      window.d3 = d3;\n",
       "      LDAvis_load_lib(\"https://cdn.jsdelivr.net/gh/bmabey/pyLDAvis@3.3.1/pyLDAvis/js/ldavis.v3.0.0.js\", function(){\n",
       "        new LDAvis(\"#\" + \"ldavis_el31111403072112842569110230766\", ldavis_el31111403072112842569110230766_data);\n",
       "      });\n",
       "    });\n",
       "}else{\n",
       "    // require.js not available: dynamically load d3 & LDAvis\n",
       "    LDAvis_load_lib(\"https://d3js.org/d3.v5.js\", function(){\n",
       "         LDAvis_load_lib(\"https://cdn.jsdelivr.net/gh/bmabey/pyLDAvis@3.3.1/pyLDAvis/js/ldavis.v3.0.0.js\", function(){\n",
       "                 new LDAvis(\"#\" + \"ldavis_el31111403072112842569110230766\", ldavis_el31111403072112842569110230766_data);\n",
       "            })\n",
       "         });\n",
       "}\n",
       "</script>"
      ],
      "text/plain": [
       "PreparedData(topic_coordinates=              x         y  topics  cluster       Freq\n",
       "topic                                                \n",
       "5     -0.026800 -0.186516       1        1  24.779517\n",
       "1      0.176157 -0.044015       2        1  15.836128\n",
       "4      0.007862 -0.174778       3        1  14.820752\n",
       "6     -0.172944  0.057605       4        1  13.160490\n",
       "2      0.008848 -0.144151       5        1  11.266750\n",
       "0      0.296534  0.269258       6        1  11.225847\n",
       "3     -0.289658  0.222597       7        1   8.910517, topic_info=           Term          Freq         Total Category  logprob  loglift\n",
       "36     headache  16243.000000  16243.000000  Default  30.0000  30.0000\n",
       "106        pain  17446.000000  17446.000000  Default  29.0000  29.0000\n",
       "997   yesterday  10122.000000  10122.000000  Default  28.0000  28.0000\n",
       "19       denies  19692.000000  19692.000000  Default  27.0000  27.0000\n",
       "1247  ibuprofen   9045.000000   9045.000000  Default  26.0000  26.0000\n",
       "...         ...           ...           ...      ...      ...      ...\n",
       "37      hearing    963.711446   1693.058691   Topic7  -4.7337   1.8544\n",
       "46      morning   1523.698481   6310.433287   Topic7  -4.2756   0.9969\n",
       "18         days   1041.636698   5812.417602   Topic7  -4.6559   0.6987\n",
       "10      changes   1034.136056  10842.315051   Topic7  -4.6632   0.0680\n",
       "228       never    735.817904   3266.461694   Topic7  -5.0035   0.9275\n",
       "\n",
       "[386 rows x 6 columns], token_table=      Topic      Freq   Term\n",
       "term                        \n",
       "130       4  0.998999   able\n",
       "1239      2  0.999630   ache\n",
       "2350      6  0.999057  aches\n",
       "1257      2  0.999019   achy\n",
       "1257      6  0.000627   achy\n",
       "...     ...       ...    ...\n",
       "82        4  0.081889     yo\n",
       "82        5  0.004950     yo\n",
       "82        6  0.016141     yo\n",
       "82        7  0.010545     yo\n",
       "711       1  0.998992     yr\n",
       "\n",
       "[594 rows x 3 columns], R=30, lambda_step=0.01, plot_opts={'xlab': 'PC1', 'ylab': 'PC2'}, topic_order=[6, 2, 5, 7, 3, 1, 4])"
      ]
     },
     "execution_count": 84,
     "metadata": {},
     "output_type": "execute_result"
    }
   ],
   "source": [
    "# Visualize the topics\n",
    "num_topics_final = 7\n",
    "pyLDAvis.enable_notebook()\n",
    "LDAvis_data_filepath = os.path.join('ldavis_prepared_'+str(num_topics_final))\n",
    "# # this is a bit time consuming - make the if statement True\n",
    "# # if you want to execute visualization prep yourself\n",
    "if 1 == 1:\n",
    "    LDAvis_prepared = gensimvis.prepare(final_lda_model, corpus, id2word)\n",
    "    with open(LDAvis_data_filepath, 'wb') as f:\n",
    "        pickle.dump(LDAvis_prepared, f)\n",
    "# load the pre-prepared pyLDAvis data from disk\n",
    "with open(LDAvis_data_filepath, 'rb') as f:\n",
    "    LDAvis_prepared = pickle.load(f)\n",
    "pyLDAvis.save_html(LDAvis_prepared, 'ldavis_prepared_'+ str(num_topics_final) +'.html')\n",
    "LDAvis_prepared"
   ]
  },
  {
   "cell_type": "code",
   "execution_count": 46,
   "metadata": {},
   "outputs": [
    {
     "name": "stderr",
     "output_type": "stream",
     "text": [
      "/Users/admin/opt/anaconda3/lib/python3.8/site-packages/ipykernel/ipkernel.py:287: DeprecationWarning: `should_run_async` will not call `transform_cell` automatically in the future. Please pass the result to `transformed_cell` argument and any exception that happen during thetransform in `preprocessing_exc_tuple` in IPython 7.17 and above.\n",
      "  and should_run_async(code)\n"
     ]
    }
   ],
   "source": [
    "from gensim.models.coherencemodel import CoherenceModel\n",
    "cm = CoherenceModel(model=lda_model, corpus=corpus, coherence='u_mass')\n",
    "coherence = cm.get_coherence()  # get coherence value"
   ]
  },
  {
   "cell_type": "code",
   "execution_count": 53,
   "metadata": {},
   "outputs": [
    {
     "name": "stderr",
     "output_type": "stream",
     "text": [
      "/Users/admin/opt/anaconda3/lib/python3.8/site-packages/ipykernel/ipkernel.py:287: DeprecationWarning: `should_run_async` will not call `transform_cell` automatically in the future. Please pass the result to `transformed_cell` argument and any exception that happen during thetransform in `preprocessing_exc_tuple` in IPython 7.17 and above.\n",
      "  and should_run_async(code)\n"
     ]
    },
    {
     "name": "stdout",
     "output_type": "stream",
     "text": [
      "\n",
      "Perplexity:  -7.98859387701229\n",
      "\n",
      "Coherence Score:  0.47786017406405046\n"
     ]
    }
   ],
   "source": [
    "# Compute Perplexity\n",
    "print('\\nPerplexity: ', lda_model.log_perplexity(corpus))  \n",
    "# a measure of how good the model is. lower the better."
   ]
  },
  {
   "cell_type": "code",
   "execution_count": 54,
   "metadata": {},
   "outputs": [
    {
     "name": "stderr",
     "output_type": "stream",
     "text": [
      "/Users/admin/opt/anaconda3/lib/python3.8/site-packages/ipykernel/ipkernel.py:287: DeprecationWarning: `should_run_async` will not call `transform_cell` automatically in the future. Please pass the result to `transformed_cell` argument and any exception that happen during thetransform in `preprocessing_exc_tuple` in IPython 7.17 and above.\n",
      "  and should_run_async(code)\n"
     ]
    },
    {
     "name": "stdout",
     "output_type": "stream",
     "text": [
      "\n",
      "Coherence Score:  0.47786017406405046\n"
     ]
    }
   ],
   "source": [
    "\n",
    "# Compute Coherence Score\n",
    "coherence_model_lda = CoherenceModel(model=lda_model, texts=texts, dictionary=id2word, coherence='c_v')\n",
    "coherence_lda = coherence_model_lda.get_coherence()\n",
    "print('\\nCoherence Score: ', coherence_lda)"
   ]
  }
 ],
 "metadata": {
  "kernelspec": {
   "display_name": "Python 3.8.5 ('base')",
   "language": "python",
   "name": "python3"
  },
  "language_info": {
   "codemirror_mode": {
    "name": "ipython",
    "version": 3
   },
   "file_extension": ".py",
   "mimetype": "text/x-python",
   "name": "python",
   "nbconvert_exporter": "python",
   "pygments_lexer": "ipython3",
   "version": "3.8.5"
  },
  "orig_nbformat": 4,
  "vscode": {
   "interpreter": {
    "hash": "651c3b7b3f466eb030aa737f279c846be4db9cba49a2f229278cab5e41121ed5"
   }
  }
 },
 "nbformat": 4,
 "nbformat_minor": 2
}
